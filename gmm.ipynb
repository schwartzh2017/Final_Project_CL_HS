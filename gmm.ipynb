{
 "cells": [
  {
   "cell_type": "code",
   "execution_count": 1,
   "id": "initial_id",
   "metadata": {
    "ExecuteTime": {
     "end_time": "2024-07-21T04:27:30.362872Z",
     "start_time": "2024-07-21T04:27:30.267780Z"
    },
    "collapsed": true
   },
   "outputs": [],
   "source": [
    "import pandas as pd\n",
    "import numpy as np\n",
    "import seaborn as sns\n",
    "import matplotlib.pyplot as plt\n",
    "from sklearn.mixture import GaussianMixture"
   ]
  },
  {
   "cell_type": "code",
   "execution_count": 4,
   "id": "1e2d3c7aa1a9f118",
   "metadata": {
    "ExecuteTime": {
     "end_time": "2024-07-21T04:40:42.553270Z",
     "start_time": "2024-07-21T04:40:41.476103Z"
    }
   },
   "outputs": [],
   "source": [
    "df1 = pd.read_csv('/Users/Haleigh/Documents/MSDS/Adv_ML/Final_Project_CL_HS/datasets/bcsc_risk_factors_expanded1.csv')\n",
    "df2 = pd.read_csv('/Users/Haleigh/Documents/MSDS/Adv_ML/Final_Project_CL_HS/datasets/bcsc_risk_factors_expanded2.csv')\n",
    "df3 = pd.read_csv('/Users/Haleigh/Documents/MSDS/Adv_ML/Final_Project_CL_HS/datasets/bcsc_risk_factors_expanded3.csv')"
   ]
  },
  {
   "cell_type": "code",
   "execution_count": 5,
   "id": "66af2bed2835b85",
   "metadata": {
    "ExecuteTime": {
     "end_time": "2024-07-21T04:40:44.542585Z",
     "start_time": "2024-07-21T04:40:44.429120Z"
    }
   },
   "outputs": [],
   "source": [
    "df = pd.concat([df1, df2, df3])"
   ]
  },
  {
   "cell_type": "code",
   "execution_count": 6,
   "id": "5eeef4e0db8c2198",
   "metadata": {
    "ExecuteTime": {
     "end_time": "2024-07-21T04:40:45.732161Z",
     "start_time": "2024-07-21T04:40:45.729728Z"
    }
   },
   "outputs": [
    {
     "data": {
      "text/plain": [
       "(6788436, 12)"
      ]
     },
     "execution_count": 6,
     "metadata": {},
     "output_type": "execute_result"
    }
   ],
   "source": [
    "df.shape"
   ]
  },
  {
   "cell_type": "code",
   "execution_count": 7,
   "id": "9e78452d7145d5e",
   "metadata": {
    "ExecuteTime": {
     "end_time": "2024-07-21T04:40:46.779129Z",
     "start_time": "2024-07-21T04:40:46.774508Z"
    }
   },
   "outputs": [
    {
     "data": {
      "text/html": [
       "<div>\n",
       "<style scoped>\n",
       "    .dataframe tbody tr th:only-of-type {\n",
       "        vertical-align: middle;\n",
       "    }\n",
       "\n",
       "    .dataframe tbody tr th {\n",
       "        vertical-align: top;\n",
       "    }\n",
       "\n",
       "    .dataframe thead th {\n",
       "        text-align: right;\n",
       "    }\n",
       "</style>\n",
       "<table border=\"1\" class=\"dataframe\">\n",
       "  <thead>\n",
       "    <tr style=\"text-align: right;\">\n",
       "      <th></th>\n",
       "      <th>year</th>\n",
       "      <th>age_group_5_years</th>\n",
       "      <th>race_eth</th>\n",
       "      <th>first_degree_hx</th>\n",
       "      <th>age_menarche</th>\n",
       "      <th>age_first_birth</th>\n",
       "      <th>BIRADS_breast_density</th>\n",
       "      <th>current_hrt</th>\n",
       "      <th>menopaus</th>\n",
       "      <th>bmi_group</th>\n",
       "      <th>biophx</th>\n",
       "      <th>breast_cancer_history</th>\n",
       "    </tr>\n",
       "  </thead>\n",
       "  <tbody>\n",
       "    <tr>\n",
       "      <th>0</th>\n",
       "      <td>2013</td>\n",
       "      <td>7</td>\n",
       "      <td>1</td>\n",
       "      <td>0</td>\n",
       "      <td>9</td>\n",
       "      <td>3</td>\n",
       "      <td>1</td>\n",
       "      <td>1</td>\n",
       "      <td>2</td>\n",
       "      <td>3</td>\n",
       "      <td>0</td>\n",
       "      <td>0</td>\n",
       "    </tr>\n",
       "    <tr>\n",
       "      <th>1</th>\n",
       "      <td>2013</td>\n",
       "      <td>7</td>\n",
       "      <td>1</td>\n",
       "      <td>0</td>\n",
       "      <td>9</td>\n",
       "      <td>3</td>\n",
       "      <td>1</td>\n",
       "      <td>1</td>\n",
       "      <td>2</td>\n",
       "      <td>3</td>\n",
       "      <td>0</td>\n",
       "      <td>0</td>\n",
       "    </tr>\n",
       "    <tr>\n",
       "      <th>2</th>\n",
       "      <td>2013</td>\n",
       "      <td>7</td>\n",
       "      <td>1</td>\n",
       "      <td>0</td>\n",
       "      <td>9</td>\n",
       "      <td>3</td>\n",
       "      <td>1</td>\n",
       "      <td>1</td>\n",
       "      <td>2</td>\n",
       "      <td>3</td>\n",
       "      <td>0</td>\n",
       "      <td>0</td>\n",
       "    </tr>\n",
       "    <tr>\n",
       "      <th>3</th>\n",
       "      <td>2013</td>\n",
       "      <td>7</td>\n",
       "      <td>1</td>\n",
       "      <td>0</td>\n",
       "      <td>9</td>\n",
       "      <td>3</td>\n",
       "      <td>1</td>\n",
       "      <td>1</td>\n",
       "      <td>2</td>\n",
       "      <td>3</td>\n",
       "      <td>0</td>\n",
       "      <td>0</td>\n",
       "    </tr>\n",
       "    <tr>\n",
       "      <th>4</th>\n",
       "      <td>2013</td>\n",
       "      <td>7</td>\n",
       "      <td>1</td>\n",
       "      <td>0</td>\n",
       "      <td>9</td>\n",
       "      <td>3</td>\n",
       "      <td>1</td>\n",
       "      <td>1</td>\n",
       "      <td>2</td>\n",
       "      <td>3</td>\n",
       "      <td>0</td>\n",
       "      <td>0</td>\n",
       "    </tr>\n",
       "  </tbody>\n",
       "</table>\n",
       "</div>"
      ],
      "text/plain": [
       "   year  age_group_5_years  race_eth  first_degree_hx  age_menarche  \\\n",
       "0  2013                  7         1                0             9   \n",
       "1  2013                  7         1                0             9   \n",
       "2  2013                  7         1                0             9   \n",
       "3  2013                  7         1                0             9   \n",
       "4  2013                  7         1                0             9   \n",
       "\n",
       "   age_first_birth  BIRADS_breast_density  current_hrt  menopaus  bmi_group  \\\n",
       "0                3                      1            1         2          3   \n",
       "1                3                      1            1         2          3   \n",
       "2                3                      1            1         2          3   \n",
       "3                3                      1            1         2          3   \n",
       "4                3                      1            1         2          3   \n",
       "\n",
       "   biophx  breast_cancer_history  \n",
       "0       0                      0  \n",
       "1       0                      0  \n",
       "2       0                      0  \n",
       "3       0                      0  \n",
       "4       0                      0  "
      ]
     },
     "execution_count": 7,
     "metadata": {},
     "output_type": "execute_result"
    }
   ],
   "source": [
    "df.head()"
   ]
  },
  {
   "cell_type": "markdown",
   "id": "d6f1a8ec984e6c4b",
   "metadata": {},
   "source": [
    "## Drop unknowns"
   ]
  },
  {
   "cell_type": "code",
   "execution_count": 8,
   "id": "5791892d04a45665",
   "metadata": {
    "ExecuteTime": {
     "end_time": "2024-07-21T04:40:48.534381Z",
     "start_time": "2024-07-21T04:40:48.416571Z"
    }
   },
   "outputs": [
    {
     "data": {
      "text/plain": [
       "(1232950, 12)"
      ]
     },
     "execution_count": 8,
     "metadata": {},
     "output_type": "execute_result"
    }
   ],
   "source": [
    "df = df[df.ne(9).all(1)]\n",
    "df.shape"
   ]
  },
  {
   "cell_type": "code",
   "execution_count": 9,
   "id": "2d3ed8237934f8b0",
   "metadata": {
    "ExecuteTime": {
     "end_time": "2024-07-21T04:40:51.986634Z",
     "start_time": "2024-07-21T04:40:51.978109Z"
    }
   },
   "outputs": [
    {
     "data": {
      "text/plain": [
       "breast_cancer_history\n",
       "0    1161727\n",
       "1      71223\n",
       "Name: count, dtype: int64"
      ]
     },
     "execution_count": 9,
     "metadata": {},
     "output_type": "execute_result"
    }
   ],
   "source": [
    "df.breast_cancer_history.value_counts()\n"
   ]
  },
  {
   "cell_type": "code",
   "execution_count": 10,
   "id": "f4096ca56006de6c",
   "metadata": {
    "ExecuteTime": {
     "end_time": "2024-07-21T04:40:54.629547Z",
     "start_time": "2024-07-21T04:40:54.575945Z"
    }
   },
   "outputs": [
    {
     "data": {
      "text/plain": [
       "<Axes: xlabel='breast_cancer_history'>"
      ]
     },
     "execution_count": 10,
     "metadata": {},
     "output_type": "execute_result"
    },
    {
     "data": {
      "image/png": "[encoded data removed]",
      "text/plain": [
       "<Figure size 640x480 with 1 Axes>"
      ]
     },
     "metadata": {},
     "output_type": "display_data"
    }
   ],
   "source": [
    "df.breast_cancer_history.value_counts().plot(kind='bar')"
   ]
  },
  {
   "cell_type": "markdown",
   "id": "bec9cdf575364ec",
   "metadata": {},
   "source": [
    "## GMM"
   ]
  },
  {
   "cell_type": "code",
   "execution_count": 11,
   "id": "e4dcb999f6f872c",
   "metadata": {
    "ExecuteTime": {
     "end_time": "2024-07-21T16:39:19.263732Z",
     "start_time": "2024-07-21T16:39:19.238743Z"
    }
   },
   "outputs": [],
   "source": [
    "df_data = df.drop(['breast_cancer_history', 'year'], axis=1).copy()"
   ]
  },
  {
   "cell_type": "code",
   "execution_count": 12,
   "id": "f09b4236d9ef4be4",
   "metadata": {
    "ExecuteTime": {
     "end_time": "2024-07-21T16:39:24.531104Z",
     "start_time": "2024-07-21T16:39:24.526854Z"
    }
   },
   "outputs": [
    {
     "data": {
      "text/html": [
       "<div>\n",
       "<style scoped>\n",
       "    .dataframe tbody tr th:only-of-type {\n",
       "        vertical-align: middle;\n",
       "    }\n",
       "\n",
       "    .dataframe tbody tr th {\n",
       "        vertical-align: top;\n",
       "    }\n",
       "\n",
       "    .dataframe thead th {\n",
       "        text-align: right;\n",
       "    }\n",
       "</style>\n",
       "<table border=\"1\" class=\"dataframe\">\n",
       "  <thead>\n",
       "    <tr style=\"text-align: right;\">\n",
       "      <th></th>\n",
       "      <th>age_group_5_years</th>\n",
       "      <th>race_eth</th>\n",
       "      <th>first_degree_hx</th>\n",
       "      <th>age_menarche</th>\n",
       "      <th>age_first_birth</th>\n",
       "      <th>BIRADS_breast_density</th>\n",
       "      <th>current_hrt</th>\n",
       "      <th>menopaus</th>\n",
       "      <th>bmi_group</th>\n",
       "      <th>biophx</th>\n",
       "    </tr>\n",
       "  </thead>\n",
       "  <tbody>\n",
       "    <tr>\n",
       "      <th>15100</th>\n",
       "      <td>7</td>\n",
       "      <td>1</td>\n",
       "      <td>1</td>\n",
       "      <td>0</td>\n",
       "      <td>0</td>\n",
       "      <td>1</td>\n",
       "      <td>0</td>\n",
       "      <td>2</td>\n",
       "      <td>3</td>\n",
       "      <td>0</td>\n",
       "    </tr>\n",
       "    <tr>\n",
       "      <th>15101</th>\n",
       "      <td>7</td>\n",
       "      <td>1</td>\n",
       "      <td>1</td>\n",
       "      <td>0</td>\n",
       "      <td>0</td>\n",
       "      <td>1</td>\n",
       "      <td>0</td>\n",
       "      <td>2</td>\n",
       "      <td>3</td>\n",
       "      <td>0</td>\n",
       "    </tr>\n",
       "    <tr>\n",
       "      <th>15102</th>\n",
       "      <td>7</td>\n",
       "      <td>1</td>\n",
       "      <td>1</td>\n",
       "      <td>0</td>\n",
       "      <td>0</td>\n",
       "      <td>1</td>\n",
       "      <td>0</td>\n",
       "      <td>2</td>\n",
       "      <td>4</td>\n",
       "      <td>1</td>\n",
       "    </tr>\n",
       "    <tr>\n",
       "      <th>15103</th>\n",
       "      <td>7</td>\n",
       "      <td>1</td>\n",
       "      <td>1</td>\n",
       "      <td>0</td>\n",
       "      <td>0</td>\n",
       "      <td>1</td>\n",
       "      <td>0</td>\n",
       "      <td>3</td>\n",
       "      <td>2</td>\n",
       "      <td>1</td>\n",
       "    </tr>\n",
       "    <tr>\n",
       "      <th>15104</th>\n",
       "      <td>7</td>\n",
       "      <td>1</td>\n",
       "      <td>1</td>\n",
       "      <td>0</td>\n",
       "      <td>0</td>\n",
       "      <td>1</td>\n",
       "      <td>0</td>\n",
       "      <td>3</td>\n",
       "      <td>4</td>\n",
       "      <td>0</td>\n",
       "    </tr>\n",
       "    <tr>\n",
       "      <th>...</th>\n",
       "      <td>...</td>\n",
       "      <td>...</td>\n",
       "      <td>...</td>\n",
       "      <td>...</td>\n",
       "      <td>...</td>\n",
       "      <td>...</td>\n",
       "      <td>...</td>\n",
       "      <td>...</td>\n",
       "      <td>...</td>\n",
       "      <td>...</td>\n",
       "    </tr>\n",
       "    <tr>\n",
       "      <th>2206280</th>\n",
       "      <td>7</td>\n",
       "      <td>1</td>\n",
       "      <td>0</td>\n",
       "      <td>2</td>\n",
       "      <td>4</td>\n",
       "      <td>4</td>\n",
       "      <td>1</td>\n",
       "      <td>2</td>\n",
       "      <td>1</td>\n",
       "      <td>0</td>\n",
       "    </tr>\n",
       "    <tr>\n",
       "      <th>2206281</th>\n",
       "      <td>7</td>\n",
       "      <td>1</td>\n",
       "      <td>0</td>\n",
       "      <td>2</td>\n",
       "      <td>4</td>\n",
       "      <td>4</td>\n",
       "      <td>1</td>\n",
       "      <td>2</td>\n",
       "      <td>1</td>\n",
       "      <td>1</td>\n",
       "    </tr>\n",
       "    <tr>\n",
       "      <th>2206282</th>\n",
       "      <td>7</td>\n",
       "      <td>1</td>\n",
       "      <td>0</td>\n",
       "      <td>2</td>\n",
       "      <td>4</td>\n",
       "      <td>4</td>\n",
       "      <td>1</td>\n",
       "      <td>2</td>\n",
       "      <td>2</td>\n",
       "      <td>0</td>\n",
       "    </tr>\n",
       "    <tr>\n",
       "      <th>2206283</th>\n",
       "      <td>7</td>\n",
       "      <td>1</td>\n",
       "      <td>0</td>\n",
       "      <td>2</td>\n",
       "      <td>4</td>\n",
       "      <td>4</td>\n",
       "      <td>1</td>\n",
       "      <td>2</td>\n",
       "      <td>2</td>\n",
       "      <td>0</td>\n",
       "    </tr>\n",
       "    <tr>\n",
       "      <th>2206284</th>\n",
       "      <td>7</td>\n",
       "      <td>1</td>\n",
       "      <td>0</td>\n",
       "      <td>2</td>\n",
       "      <td>4</td>\n",
       "      <td>4</td>\n",
       "      <td>1</td>\n",
       "      <td>2</td>\n",
       "      <td>2</td>\n",
       "      <td>1</td>\n",
       "    </tr>\n",
       "  </tbody>\n",
       "</table>\n",
       "<p>1232950 rows × 10 columns</p>\n",
       "</div>"
      ],
      "text/plain": [
       "         age_group_5_years  race_eth  first_degree_hx  age_menarche  \\\n",
       "15100                    7         1                1             0   \n",
       "15101                    7         1                1             0   \n",
       "15102                    7         1                1             0   \n",
       "15103                    7         1                1             0   \n",
       "15104                    7         1                1             0   \n",
       "...                    ...       ...              ...           ...   \n",
       "2206280                  7         1                0             2   \n",
       "2206281                  7         1                0             2   \n",
       "2206282                  7         1                0             2   \n",
       "2206283                  7         1                0             2   \n",
       "2206284                  7         1                0             2   \n",
       "\n",
       "         age_first_birth  BIRADS_breast_density  current_hrt  menopaus  \\\n",
       "15100                  0                      1            0         2   \n",
       "15101                  0                      1            0         2   \n",
       "15102                  0                      1            0         2   \n",
       "15103                  0                      1            0         3   \n",
       "15104                  0                      1            0         3   \n",
       "...                  ...                    ...          ...       ...   \n",
       "2206280                4                      4            1         2   \n",
       "2206281                4                      4            1         2   \n",
       "2206282                4                      4            1         2   \n",
       "2206283                4                      4            1         2   \n",
       "2206284                4                      4            1         2   \n",
       "\n",
       "         bmi_group  biophx  \n",
       "15100            3       0  \n",
       "15101            3       0  \n",
       "15102            4       1  \n",
       "15103            2       1  \n",
       "15104            4       0  \n",
       "...            ...     ...  \n",
       "2206280          1       0  \n",
       "2206281          1       1  \n",
       "2206282          2       0  \n",
       "2206283          2       0  \n",
       "2206284          2       1  \n",
       "\n",
       "[1232950 rows x 10 columns]"
      ]
     },
     "execution_count": 12,
     "metadata": {},
     "output_type": "execute_result"
    }
   ],
   "source": [
    "df_data"
   ]
  },
  {
   "cell_type": "code",
   "execution_count": 40,
   "id": "3f6766a6c2d8228a",
   "metadata": {
    "ExecuteTime": {
     "end_time": "2024-07-21T16:42:25.031147Z",
     "start_time": "2024-07-21T16:40:19.404108Z"
    }
   },
   "outputs": [
    {
     "data": {
      "text/plain": [
       "Text(0.5, 0, 'Number Of Components')"
      ]
     },
     "execution_count": 40,
     "metadata": {},
     "output_type": "execute_result"
    },
    {
     "data": {
      "image/png": "[encoded data removed]",
      "text/plain": [
       "<Figure size 640x480 with 1 Axes>"
      ]
     },
     "metadata": {},
     "output_type": "display_data"
    }
   ],
   "source": [
    "#Prepare\n",
    "n_component = np.arange(1,10)\n",
    "\n",
    "#Create GGM Model\n",
    "models = [GaussianMixture(n_components = n,\n",
    "                          random_state=42).fit(df_data) for n in n_component]\n",
    "#Plot\n",
    "plt.plot(n_component,\n",
    "         [m.bic(df_data) for m in models],\n",
    "         label = 'BIC')\n",
    "plt.plot(n_component,\n",
    "         [m.aic(df_data) for m in models],\n",
    "         label = 'AIC')\n",
    "plt.legend()\n",
    "plt.xlabel(\"Number Of Components\")"
   ]
  },
  {
   "cell_type": "code",
   "execution_count": 41,
   "id": "29b6e9d68de3439f",
   "metadata": {
    "ExecuteTime": {
     "end_time": "2024-07-21T17:23:41.300273Z",
     "start_time": "2024-07-21T17:23:23.340515Z"
    }
   },
   "outputs": [
    {
     "data": {
      "text/html": [
       "<div>\n",
       "<style scoped>\n",
       "    .dataframe tbody tr th:only-of-type {\n",
       "        vertical-align: middle;\n",
       "    }\n",
       "\n",
       "    .dataframe tbody tr th {\n",
       "        vertical-align: top;\n",
       "    }\n",
       "\n",
       "    .dataframe thead th {\n",
       "        text-align: right;\n",
       "    }\n",
       "</style>\n",
       "<table border=\"1\" class=\"dataframe\">\n",
       "  <thead>\n",
       "    <tr style=\"text-align: right;\">\n",
       "      <th></th>\n",
       "      <th>year</th>\n",
       "      <th>age_group_5_years</th>\n",
       "      <th>race_eth</th>\n",
       "      <th>first_degree_hx</th>\n",
       "      <th>age_menarche</th>\n",
       "      <th>age_first_birth</th>\n",
       "      <th>BIRADS_breast_density</th>\n",
       "      <th>current_hrt</th>\n",
       "      <th>menopaus</th>\n",
       "      <th>bmi_group</th>\n",
       "      <th>biophx</th>\n",
       "      <th>breast_cancer_history</th>\n",
       "      <th>cluster</th>\n",
       "    </tr>\n",
       "  </thead>\n",
       "  <tbody>\n",
       "    <tr>\n",
       "      <th>15100</th>\n",
       "      <td>2013</td>\n",
       "      <td>7</td>\n",
       "      <td>1</td>\n",
       "      <td>1</td>\n",
       "      <td>0</td>\n",
       "      <td>0</td>\n",
       "      <td>1</td>\n",
       "      <td>0</td>\n",
       "      <td>2</td>\n",
       "      <td>3</td>\n",
       "      <td>0</td>\n",
       "      <td>0</td>\n",
       "      <td>3.0</td>\n",
       "    </tr>\n",
       "    <tr>\n",
       "      <th>15101</th>\n",
       "      <td>2013</td>\n",
       "      <td>7</td>\n",
       "      <td>1</td>\n",
       "      <td>1</td>\n",
       "      <td>0</td>\n",
       "      <td>0</td>\n",
       "      <td>1</td>\n",
       "      <td>0</td>\n",
       "      <td>2</td>\n",
       "      <td>3</td>\n",
       "      <td>0</td>\n",
       "      <td>0</td>\n",
       "      <td>3.0</td>\n",
       "    </tr>\n",
       "    <tr>\n",
       "      <th>15102</th>\n",
       "      <td>2013</td>\n",
       "      <td>7</td>\n",
       "      <td>1</td>\n",
       "      <td>1</td>\n",
       "      <td>0</td>\n",
       "      <td>0</td>\n",
       "      <td>1</td>\n",
       "      <td>0</td>\n",
       "      <td>2</td>\n",
       "      <td>4</td>\n",
       "      <td>1</td>\n",
       "      <td>0</td>\n",
       "      <td>3.0</td>\n",
       "    </tr>\n",
       "    <tr>\n",
       "      <th>15103</th>\n",
       "      <td>2013</td>\n",
       "      <td>7</td>\n",
       "      <td>1</td>\n",
       "      <td>1</td>\n",
       "      <td>0</td>\n",
       "      <td>0</td>\n",
       "      <td>1</td>\n",
       "      <td>0</td>\n",
       "      <td>3</td>\n",
       "      <td>2</td>\n",
       "      <td>1</td>\n",
       "      <td>0</td>\n",
       "      <td>3.0</td>\n",
       "    </tr>\n",
       "    <tr>\n",
       "      <th>15104</th>\n",
       "      <td>2013</td>\n",
       "      <td>7</td>\n",
       "      <td>1</td>\n",
       "      <td>1</td>\n",
       "      <td>0</td>\n",
       "      <td>0</td>\n",
       "      <td>1</td>\n",
       "      <td>0</td>\n",
       "      <td>3</td>\n",
       "      <td>4</td>\n",
       "      <td>0</td>\n",
       "      <td>0</td>\n",
       "      <td>3.0</td>\n",
       "    </tr>\n",
       "    <tr>\n",
       "      <th>...</th>\n",
       "      <td>...</td>\n",
       "      <td>...</td>\n",
       "      <td>...</td>\n",
       "      <td>...</td>\n",
       "      <td>...</td>\n",
       "      <td>...</td>\n",
       "      <td>...</td>\n",
       "      <td>...</td>\n",
       "      <td>...</td>\n",
       "      <td>...</td>\n",
       "      <td>...</td>\n",
       "      <td>...</td>\n",
       "      <td>...</td>\n",
       "    </tr>\n",
       "    <tr>\n",
       "      <th>2206280</th>\n",
       "      <td>2013</td>\n",
       "      <td>7</td>\n",
       "      <td>1</td>\n",
       "      <td>0</td>\n",
       "      <td>2</td>\n",
       "      <td>4</td>\n",
       "      <td>4</td>\n",
       "      <td>1</td>\n",
       "      <td>2</td>\n",
       "      <td>1</td>\n",
       "      <td>0</td>\n",
       "      <td>0</td>\n",
       "      <td>NaN</td>\n",
       "    </tr>\n",
       "    <tr>\n",
       "      <th>2206281</th>\n",
       "      <td>2013</td>\n",
       "      <td>7</td>\n",
       "      <td>1</td>\n",
       "      <td>0</td>\n",
       "      <td>2</td>\n",
       "      <td>4</td>\n",
       "      <td>4</td>\n",
       "      <td>1</td>\n",
       "      <td>2</td>\n",
       "      <td>1</td>\n",
       "      <td>1</td>\n",
       "      <td>0</td>\n",
       "      <td>NaN</td>\n",
       "    </tr>\n",
       "    <tr>\n",
       "      <th>2206282</th>\n",
       "      <td>2013</td>\n",
       "      <td>7</td>\n",
       "      <td>1</td>\n",
       "      <td>0</td>\n",
       "      <td>2</td>\n",
       "      <td>4</td>\n",
       "      <td>4</td>\n",
       "      <td>1</td>\n",
       "      <td>2</td>\n",
       "      <td>2</td>\n",
       "      <td>0</td>\n",
       "      <td>0</td>\n",
       "      <td>NaN</td>\n",
       "    </tr>\n",
       "    <tr>\n",
       "      <th>2206283</th>\n",
       "      <td>2013</td>\n",
       "      <td>7</td>\n",
       "      <td>1</td>\n",
       "      <td>0</td>\n",
       "      <td>2</td>\n",
       "      <td>4</td>\n",
       "      <td>4</td>\n",
       "      <td>1</td>\n",
       "      <td>2</td>\n",
       "      <td>2</td>\n",
       "      <td>0</td>\n",
       "      <td>0</td>\n",
       "      <td>NaN</td>\n",
       "    </tr>\n",
       "    <tr>\n",
       "      <th>2206284</th>\n",
       "      <td>2013</td>\n",
       "      <td>7</td>\n",
       "      <td>1</td>\n",
       "      <td>0</td>\n",
       "      <td>2</td>\n",
       "      <td>4</td>\n",
       "      <td>4</td>\n",
       "      <td>1</td>\n",
       "      <td>2</td>\n",
       "      <td>2</td>\n",
       "      <td>1</td>\n",
       "      <td>0</td>\n",
       "      <td>NaN</td>\n",
       "    </tr>\n",
       "  </tbody>\n",
       "</table>\n",
       "<p>1232950 rows × 13 columns</p>\n",
       "</div>"
      ],
      "text/plain": [
       "         year  age_group_5_years  race_eth  first_degree_hx  age_menarche  \\\n",
       "15100    2013                  7         1                1             0   \n",
       "15101    2013                  7         1                1             0   \n",
       "15102    2013                  7         1                1             0   \n",
       "15103    2013                  7         1                1             0   \n",
       "15104    2013                  7         1                1             0   \n",
       "...       ...                ...       ...              ...           ...   \n",
       "2206280  2013                  7         1                0             2   \n",
       "2206281  2013                  7         1                0             2   \n",
       "2206282  2013                  7         1                0             2   \n",
       "2206283  2013                  7         1                0             2   \n",
       "2206284  2013                  7         1                0             2   \n",
       "\n",
       "         age_first_birth  BIRADS_breast_density  current_hrt  menopaus  \\\n",
       "15100                  0                      1            0         2   \n",
       "15101                  0                      1            0         2   \n",
       "15102                  0                      1            0         2   \n",
       "15103                  0                      1            0         3   \n",
       "15104                  0                      1            0         3   \n",
       "...                  ...                    ...          ...       ...   \n",
       "2206280                4                      4            1         2   \n",
       "2206281                4                      4            1         2   \n",
       "2206282                4                      4            1         2   \n",
       "2206283                4                      4            1         2   \n",
       "2206284                4                      4            1         2   \n",
       "\n",
       "         bmi_group  biophx  breast_cancer_history  cluster  \n",
       "15100            3       0                      0      3.0  \n",
       "15101            3       0                      0      3.0  \n",
       "15102            4       1                      0      3.0  \n",
       "15103            2       1                      0      3.0  \n",
       "15104            4       0                      0      3.0  \n",
       "...            ...     ...                    ...      ...  \n",
       "2206280          1       0                      0      NaN  \n",
       "2206281          1       1                      0      NaN  \n",
       "2206282          2       0                      0      NaN  \n",
       "2206283          2       0                      0      NaN  \n",
       "2206284          2       1                      0      NaN  \n",
       "\n",
       "[1232950 rows x 13 columns]"
      ]
     },
     "execution_count": 41,
     "metadata": {},
     "output_type": "execute_result"
    }
   ],
   "source": [
    "# create GM Models\n",
    "model = GaussianMixture(n_components=7,\n",
    "                        random_state=42).fit(df_data)\n",
    "cluster = pd.Series(model.predict(df_data))\n",
    "df['cluster'] = cluster\n",
    "df"
   ]
  },
  {
   "cell_type": "code",
   "execution_count": 42,
   "id": "458e8f31a36aaee0",
   "metadata": {
    "ExecuteTime": {
     "end_time": "2024-07-21T17:23:59.235914Z",
     "start_time": "2024-07-21T17:23:59.228378Z"
    }
   },
   "outputs": [
    {
     "data": {
      "text/plain": [
       "cluster\n",
       "3.0    260759\n",
       "2.0    204392\n",
       "0.0     69896\n",
       "5.0     38297\n",
       "4.0     36203\n",
       "6.0     14186\n",
       "1.0      2189\n",
       "Name: count, dtype: int64"
      ]
     },
     "execution_count": 42,
     "metadata": {},
     "output_type": "execute_result"
    }
   ],
   "source": [
    "df.cluster.value_counts()"
   ]
  },
  {
   "cell_type": "code",
   "execution_count": 22,
   "id": "e12158788440b692",
   "metadata": {
    "ExecuteTime": {
     "end_time": "2024-07-21T04:38:51.808602Z",
     "start_time": "2024-07-21T04:38:51.806015Z"
    }
   },
   "outputs": [
    {
     "data": {
      "text/plain": [
       "<bound method GaussianMixture.bic of GaussianMixture(n_components=4, random_state=42)>"
      ]
     },
     "execution_count": 22,
     "metadata": {},
     "output_type": "execute_result"
    }
   ],
   "source": [
    "model.bic"
   ]
  },
  {
   "cell_type": "code",
   "execution_count": 33,
   "id": "5e3ca836c9a0f5d",
   "metadata": {
    "ExecuteTime": {
     "end_time": "2024-07-21T04:41:43.933323Z",
     "start_time": "2024-07-21T04:41:35.071530Z"
    }
   },
   "outputs": [],
   "source": [
    "gmm_model_comparisons=pd.DataFrame({\"n_components\" : 4,\n",
    "                                  \"BIC\" : [m.bic(df.loc[:, df.columns != 'breast_cancer_history']) for m in models],\n",
    "                                   \"AIC\" : [m.aic(df.loc[:, df.columns != 'breast_cancer_history']) for m in models]})\n"
   ]
  },
  {
   "cell_type": "code",
   "execution_count": 34,
   "id": "6b165d45dad55c6c",
   "metadata": {
    "ExecuteTime": {
     "end_time": "2024-07-21T04:42:23.225951Z",
     "start_time": "2024-07-21T04:42:23.086085Z"
    }
   },
   "outputs": [
    {
     "data": {
      "image/png": "[encoded data removed]",
      "text/plain": [
       "<Figure size 800x600 with 1 Axes>"
      ]
     },
     "metadata": {},
     "output_type": "display_data"
    }
   ],
   "source": [
    "plt.figure(figsize=(8,6))\n",
    "sns.lineplot(data=gmm_model_comparisons[[\"BIC\",\"AIC\"]])\n",
    "plt.xlabel(\"Number of Clusters\")\n",
    "plt.ylabel(\"Score\")\n",
    "plt.savefig(\"GMM_model_comparison_with_AIC_BIC_Scores_Python.png\",\n",
    "                    format='png',dpi=150)"
   ]
  }
 ],
 "metadata": {
  "kernelspec": {
   "display_name": "Python 3 (ipykernel)",
   "language": "python",
   "name": "python3"
  }
 },
 "nbformat": 4,
 "nbformat_minor": 5
}
