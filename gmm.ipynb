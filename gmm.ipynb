{
 "cells": [
  {
   "cell_type": "code",
   "id": "initial_id",
   "metadata": {
    "collapsed": true,
    "ExecuteTime": {
     "end_time": "2024-07-19T16:35:18.233656Z",
     "start_time": "2024-07-19T16:35:17.693307Z"
    }
   },
   "source": [
    "import pandas as pd\n",
    "import numpy as np\n",
    "import matplotlib.pyplot as plt\n",
    "from sklearn.mixture import GaussianMixture"
   ],
   "outputs": [],
   "execution_count": 1
  },
  {
   "metadata": {
    "ExecuteTime": {
     "end_time": "2024-07-19T17:08:39.523033Z",
     "start_time": "2024-07-19T17:08:38.311732Z"
    }
   },
   "cell_type": "code",
   "source": [
    "df1 = pd.read_csv('data/bcsc_risk_factors_expanded1.csv')\n",
    "df2 = pd.read_csv('data/bcsc_risk_factors_expanded2.csv')\n",
    "df3 = pd.read_csv('data/bcsc_risk_factors_expanded3.csv')"
   ],
   "id": "1e2d3c7aa1a9f118",
   "outputs": [],
   "execution_count": 18
  },
  {
   "metadata": {
    "ExecuteTime": {
     "end_time": "2024-07-19T16:36:27.160069Z",
     "start_time": "2024-07-19T16:36:26.855217Z"
    }
   },
   "cell_type": "code",
   "source": "df = pd.concat([df1, df2, df3])",
   "id": "66af2bed2835b85",
   "outputs": [],
   "execution_count": 3
  },
  {
   "metadata": {
    "ExecuteTime": {
     "end_time": "2024-07-19T16:36:38.984100Z",
     "start_time": "2024-07-19T16:36:38.959729Z"
    }
   },
   "cell_type": "code",
   "source": "df.shape",
   "id": "5eeef4e0db8c2198",
   "outputs": [
    {
     "data": {
      "text/plain": [
       "(6788436, 12)"
      ]
     },
     "execution_count": 4,
     "metadata": {},
     "output_type": "execute_result"
    }
   ],
   "execution_count": 4
  },
  {
   "metadata": {
    "ExecuteTime": {
     "end_time": "2024-07-19T16:42:28.155764Z",
     "start_time": "2024-07-19T16:42:28.133725Z"
    }
   },
   "cell_type": "code",
   "source": "df.head()",
   "id": "9e78452d7145d5e",
   "outputs": [
    {
     "data": {
      "text/plain": [
       "   year  age_group_5_years  race_eth  first_degree_hx  age_menarche  \\\n",
       "0  2013                  7         1                0             9   \n",
       "1  2013                  7         1                0             9   \n",
       "2  2013                  7         1                0             9   \n",
       "3  2013                  7         1                0             9   \n",
       "4  2013                  7         1                0             9   \n",
       "\n",
       "   age_first_birth  BIRADS_breast_density  current_hrt  menopaus  bmi_group  \\\n",
       "0                3                      1            1         2          3   \n",
       "1                3                      1            1         2          3   \n",
       "2                3                      1            1         2          3   \n",
       "3                3                      1            1         2          3   \n",
       "4                3                      1            1         2          3   \n",
       "\n",
       "   biophx  breast_cancer_history  \n",
       "0       0                      0  \n",
       "1       0                      0  \n",
       "2       0                      0  \n",
       "3       0                      0  \n",
       "4       0                      0  "
      ],
      "text/html": [
       "<div>\n",
       "<style scoped>\n",
       "    .dataframe tbody tr th:only-of-type {\n",
       "        vertical-align: middle;\n",
       "    }\n",
       "\n",
       "    .dataframe tbody tr th {\n",
       "        vertical-align: top;\n",
       "    }\n",
       "\n",
       "    .dataframe thead th {\n",
       "        text-align: right;\n",
       "    }\n",
       "</style>\n",
       "<table border=\"1\" class=\"dataframe\">\n",
       "  <thead>\n",
       "    <tr style=\"text-align: right;\">\n",
       "      <th></th>\n",
       "      <th>year</th>\n",
       "      <th>age_group_5_years</th>\n",
       "      <th>race_eth</th>\n",
       "      <th>first_degree_hx</th>\n",
       "      <th>age_menarche</th>\n",
       "      <th>age_first_birth</th>\n",
       "      <th>BIRADS_breast_density</th>\n",
       "      <th>current_hrt</th>\n",
       "      <th>menopaus</th>\n",
       "      <th>bmi_group</th>\n",
       "      <th>biophx</th>\n",
       "      <th>breast_cancer_history</th>\n",
       "    </tr>\n",
       "  </thead>\n",
       "  <tbody>\n",
       "    <tr>\n",
       "      <th>0</th>\n",
       "      <td>2013</td>\n",
       "      <td>7</td>\n",
       "      <td>1</td>\n",
       "      <td>0</td>\n",
       "      <td>9</td>\n",
       "      <td>3</td>\n",
       "      <td>1</td>\n",
       "      <td>1</td>\n",
       "      <td>2</td>\n",
       "      <td>3</td>\n",
       "      <td>0</td>\n",
       "      <td>0</td>\n",
       "    </tr>\n",
       "    <tr>\n",
       "      <th>1</th>\n",
       "      <td>2013</td>\n",
       "      <td>7</td>\n",
       "      <td>1</td>\n",
       "      <td>0</td>\n",
       "      <td>9</td>\n",
       "      <td>3</td>\n",
       "      <td>1</td>\n",
       "      <td>1</td>\n",
       "      <td>2</td>\n",
       "      <td>3</td>\n",
       "      <td>0</td>\n",
       "      <td>0</td>\n",
       "    </tr>\n",
       "    <tr>\n",
       "      <th>2</th>\n",
       "      <td>2013</td>\n",
       "      <td>7</td>\n",
       "      <td>1</td>\n",
       "      <td>0</td>\n",
       "      <td>9</td>\n",
       "      <td>3</td>\n",
       "      <td>1</td>\n",
       "      <td>1</td>\n",
       "      <td>2</td>\n",
       "      <td>3</td>\n",
       "      <td>0</td>\n",
       "      <td>0</td>\n",
       "    </tr>\n",
       "    <tr>\n",
       "      <th>3</th>\n",
       "      <td>2013</td>\n",
       "      <td>7</td>\n",
       "      <td>1</td>\n",
       "      <td>0</td>\n",
       "      <td>9</td>\n",
       "      <td>3</td>\n",
       "      <td>1</td>\n",
       "      <td>1</td>\n",
       "      <td>2</td>\n",
       "      <td>3</td>\n",
       "      <td>0</td>\n",
       "      <td>0</td>\n",
       "    </tr>\n",
       "    <tr>\n",
       "      <th>4</th>\n",
       "      <td>2013</td>\n",
       "      <td>7</td>\n",
       "      <td>1</td>\n",
       "      <td>0</td>\n",
       "      <td>9</td>\n",
       "      <td>3</td>\n",
       "      <td>1</td>\n",
       "      <td>1</td>\n",
       "      <td>2</td>\n",
       "      <td>3</td>\n",
       "      <td>0</td>\n",
       "      <td>0</td>\n",
       "    </tr>\n",
       "  </tbody>\n",
       "</table>\n",
       "</div>"
      ]
     },
     "execution_count": 6,
     "metadata": {},
     "output_type": "execute_result"
    }
   ],
   "execution_count": 6
  },
  {
   "metadata": {},
   "cell_type": "markdown",
   "source": "## Drop unknowns",
   "id": "d6f1a8ec984e6c4b"
  },
  {
   "metadata": {
    "ExecuteTime": {
     "end_time": "2024-07-19T16:46:45.257300Z",
     "start_time": "2024-07-19T16:46:45.178107Z"
    }
   },
   "cell_type": "code",
   "source": [
    "df = df[df.ne(9).all(1)]\n",
    "df.shape"
   ],
   "id": "5791892d04a45665",
   "outputs": [
    {
     "data": {
      "text/plain": [
       "(1232950, 12)"
      ]
     },
     "execution_count": 11,
     "metadata": {},
     "output_type": "execute_result"
    }
   ],
   "execution_count": 11
  },
  {
   "metadata": {
    "ExecuteTime": {
     "end_time": "2024-07-19T16:50:13.959653Z",
     "start_time": "2024-07-19T16:50:13.897791Z"
    }
   },
   "cell_type": "code",
   "source": "df.breast_cancer_history.value_counts().plot(kind='bar')",
   "id": "f4096ca56006de6c",
   "outputs": [
    {
     "data": {
      "text/plain": [
       "<Axes: xlabel='breast_cancer_history'>"
      ]
     },
     "execution_count": 14,
     "metadata": {},
     "output_type": "execute_result"
    },
    {
     "data": {
      "text/plain": [
       "<Figure size 640x480 with 1 Axes>"
      ],
      "image/png": "[encoded data removed]"
     },
     "metadata": {},
     "output_type": "display_data"
    }
   ],
   "execution_count": 14
  },
  {
   "metadata": {},
   "cell_type": "markdown",
   "source": "## GMM",
   "id": "bec9cdf575364ec"
  },
  {
   "metadata": {
    "ExecuteTime": {
     "end_time": "2024-07-19T16:57:20.047264Z",
     "start_time": "2024-07-19T16:53:51.878870Z"
    }
   },
   "cell_type": "code",
   "source": [
    "#Prepare\n",
    "n_component = np.arange(1,10)\n",
    "\n",
    "#Create GGM Model\n",
    "models = [GaussianMixture(n_components = n,\n",
    "                          random_state=42).fit(df) for n in n_component]\n",
    "#Plot\n",
    "plt.plot(n_component,\n",
    "         [m.bic(df) for m in models],\n",
    "         label = 'BIC')\n",
    "plt.plot(n_component,\n",
    "         [m.aic(df) for m in models],\n",
    "         label = 'AIC')\n",
    "plt.legend()\n",
    "plt.xlabel(\"Number Of Components\")"
   ],
   "id": "3f6766a6c2d8228a",
   "outputs": [
    {
     "data": {
      "text/plain": [
       "Text(0.5, 0, 'Number Of Component')"
      ]
     },
     "execution_count": 15,
     "metadata": {},
     "output_type": "execute_result"
    },
    {
     "data": {
      "text/plain": [
       "<Figure size 640x480 with 1 Axes>"
      ],
      "image/png": "[encoded data removed]"
     },
     "metadata": {},
     "output_type": "display_data"
    }
   ],
   "execution_count": 15
  },
  {
   "metadata": {
    "ExecuteTime": {
     "end_time": "2024-07-19T16:59:32.568379Z",
     "start_time": "2024-07-19T16:58:49.625024Z"
    }
   },
   "cell_type": "code",
   "source": [
    "# create GM Models\n",
    "model = GaussianMixture(n_components=5,\n",
    "                        random_state=42).fit(df)\n",
    "cluster = pd.Series(model.predict(df))\n",
    "df['cluster'] = cluster\n",
    "df"
   ],
   "id": "29b6e9d68de3439f",
   "outputs": [
    {
     "data": {
      "text/plain": [
       "         year  age_group_5_years  race_eth  first_degree_hx  age_menarche  \\\n",
       "15100    2013                  7         1                1             0   \n",
       "15101    2013                  7         1                1             0   \n",
       "15102    2013                  7         1                1             0   \n",
       "15103    2013                  7         1                1             0   \n",
       "15104    2013                  7         1                1             0   \n",
       "...       ...                ...       ...              ...           ...   \n",
       "2206280  2013                  7         1                0             2   \n",
       "2206281  2013                  7         1                0             2   \n",
       "2206282  2013                  7         1                0             2   \n",
       "2206283  2013                  7         1                0             2   \n",
       "2206284  2013                  7         1                0             2   \n",
       "\n",
       "         age_first_birth  BIRADS_breast_density  current_hrt  menopaus  \\\n",
       "15100                  0                      1            0         2   \n",
       "15101                  0                      1            0         2   \n",
       "15102                  0                      1            0         2   \n",
       "15103                  0                      1            0         3   \n",
       "15104                  0                      1            0         3   \n",
       "...                  ...                    ...          ...       ...   \n",
       "2206280                4                      4            1         2   \n",
       "2206281                4                      4            1         2   \n",
       "2206282                4                      4            1         2   \n",
       "2206283                4                      4            1         2   \n",
       "2206284                4                      4            1         2   \n",
       "\n",
       "         bmi_group  biophx  breast_cancer_history  cluster  \n",
       "15100            3       0                      0      2.0  \n",
       "15101            3       0                      0      2.0  \n",
       "15102            4       1                      0      2.0  \n",
       "15103            2       1                      0      2.0  \n",
       "15104            4       0                      0      2.0  \n",
       "...            ...     ...                    ...      ...  \n",
       "2206280          1       0                      0      NaN  \n",
       "2206281          1       1                      0      NaN  \n",
       "2206282          2       0                      0      NaN  \n",
       "2206283          2       0                      0      NaN  \n",
       "2206284          2       1                      0      NaN  \n",
       "\n",
       "[1232950 rows x 13 columns]"
      ],
      "text/html": [
       "<div>\n",
       "<style scoped>\n",
       "    .dataframe tbody tr th:only-of-type {\n",
       "        vertical-align: middle;\n",
       "    }\n",
       "\n",
       "    .dataframe tbody tr th {\n",
       "        vertical-align: top;\n",
       "    }\n",
       "\n",
       "    .dataframe thead th {\n",
       "        text-align: right;\n",
       "    }\n",
       "</style>\n",
       "<table border=\"1\" class=\"dataframe\">\n",
       "  <thead>\n",
       "    <tr style=\"text-align: right;\">\n",
       "      <th></th>\n",
       "      <th>year</th>\n",
       "      <th>age_group_5_years</th>\n",
       "      <th>race_eth</th>\n",
       "      <th>first_degree_hx</th>\n",
       "      <th>age_menarche</th>\n",
       "      <th>age_first_birth</th>\n",
       "      <th>BIRADS_breast_density</th>\n",
       "      <th>current_hrt</th>\n",
       "      <th>menopaus</th>\n",
       "      <th>bmi_group</th>\n",
       "      <th>biophx</th>\n",
       "      <th>breast_cancer_history</th>\n",
       "      <th>cluster</th>\n",
       "    </tr>\n",
       "  </thead>\n",
       "  <tbody>\n",
       "    <tr>\n",
       "      <th>15100</th>\n",
       "      <td>2013</td>\n",
       "      <td>7</td>\n",
       "      <td>1</td>\n",
       "      <td>1</td>\n",
       "      <td>0</td>\n",
       "      <td>0</td>\n",
       "      <td>1</td>\n",
       "      <td>0</td>\n",
       "      <td>2</td>\n",
       "      <td>3</td>\n",
       "      <td>0</td>\n",
       "      <td>0</td>\n",
       "      <td>2.0</td>\n",
       "    </tr>\n",
       "    <tr>\n",
       "      <th>15101</th>\n",
       "      <td>2013</td>\n",
       "      <td>7</td>\n",
       "      <td>1</td>\n",
       "      <td>1</td>\n",
       "      <td>0</td>\n",
       "      <td>0</td>\n",
       "      <td>1</td>\n",
       "      <td>0</td>\n",
       "      <td>2</td>\n",
       "      <td>3</td>\n",
       "      <td>0</td>\n",
       "      <td>0</td>\n",
       "      <td>2.0</td>\n",
       "    </tr>\n",
       "    <tr>\n",
       "      <th>15102</th>\n",
       "      <td>2013</td>\n",
       "      <td>7</td>\n",
       "      <td>1</td>\n",
       "      <td>1</td>\n",
       "      <td>0</td>\n",
       "      <td>0</td>\n",
       "      <td>1</td>\n",
       "      <td>0</td>\n",
       "      <td>2</td>\n",
       "      <td>4</td>\n",
       "      <td>1</td>\n",
       "      <td>0</td>\n",
       "      <td>2.0</td>\n",
       "    </tr>\n",
       "    <tr>\n",
       "      <th>15103</th>\n",
       "      <td>2013</td>\n",
       "      <td>7</td>\n",
       "      <td>1</td>\n",
       "      <td>1</td>\n",
       "      <td>0</td>\n",
       "      <td>0</td>\n",
       "      <td>1</td>\n",
       "      <td>0</td>\n",
       "      <td>3</td>\n",
       "      <td>2</td>\n",
       "      <td>1</td>\n",
       "      <td>0</td>\n",
       "      <td>2.0</td>\n",
       "    </tr>\n",
       "    <tr>\n",
       "      <th>15104</th>\n",
       "      <td>2013</td>\n",
       "      <td>7</td>\n",
       "      <td>1</td>\n",
       "      <td>1</td>\n",
       "      <td>0</td>\n",
       "      <td>0</td>\n",
       "      <td>1</td>\n",
       "      <td>0</td>\n",
       "      <td>3</td>\n",
       "      <td>4</td>\n",
       "      <td>0</td>\n",
       "      <td>0</td>\n",
       "      <td>2.0</td>\n",
       "    </tr>\n",
       "    <tr>\n",
       "      <th>...</th>\n",
       "      <td>...</td>\n",
       "      <td>...</td>\n",
       "      <td>...</td>\n",
       "      <td>...</td>\n",
       "      <td>...</td>\n",
       "      <td>...</td>\n",
       "      <td>...</td>\n",
       "      <td>...</td>\n",
       "      <td>...</td>\n",
       "      <td>...</td>\n",
       "      <td>...</td>\n",
       "      <td>...</td>\n",
       "      <td>...</td>\n",
       "    </tr>\n",
       "    <tr>\n",
       "      <th>2206280</th>\n",
       "      <td>2013</td>\n",
       "      <td>7</td>\n",
       "      <td>1</td>\n",
       "      <td>0</td>\n",
       "      <td>2</td>\n",
       "      <td>4</td>\n",
       "      <td>4</td>\n",
       "      <td>1</td>\n",
       "      <td>2</td>\n",
       "      <td>1</td>\n",
       "      <td>0</td>\n",
       "      <td>0</td>\n",
       "      <td>NaN</td>\n",
       "    </tr>\n",
       "    <tr>\n",
       "      <th>2206281</th>\n",
       "      <td>2013</td>\n",
       "      <td>7</td>\n",
       "      <td>1</td>\n",
       "      <td>0</td>\n",
       "      <td>2</td>\n",
       "      <td>4</td>\n",
       "      <td>4</td>\n",
       "      <td>1</td>\n",
       "      <td>2</td>\n",
       "      <td>1</td>\n",
       "      <td>1</td>\n",
       "      <td>0</td>\n",
       "      <td>NaN</td>\n",
       "    </tr>\n",
       "    <tr>\n",
       "      <th>2206282</th>\n",
       "      <td>2013</td>\n",
       "      <td>7</td>\n",
       "      <td>1</td>\n",
       "      <td>0</td>\n",
       "      <td>2</td>\n",
       "      <td>4</td>\n",
       "      <td>4</td>\n",
       "      <td>1</td>\n",
       "      <td>2</td>\n",
       "      <td>2</td>\n",
       "      <td>0</td>\n",
       "      <td>0</td>\n",
       "      <td>NaN</td>\n",
       "    </tr>\n",
       "    <tr>\n",
       "      <th>2206283</th>\n",
       "      <td>2013</td>\n",
       "      <td>7</td>\n",
       "      <td>1</td>\n",
       "      <td>0</td>\n",
       "      <td>2</td>\n",
       "      <td>4</td>\n",
       "      <td>4</td>\n",
       "      <td>1</td>\n",
       "      <td>2</td>\n",
       "      <td>2</td>\n",
       "      <td>0</td>\n",
       "      <td>0</td>\n",
       "      <td>NaN</td>\n",
       "    </tr>\n",
       "    <tr>\n",
       "      <th>2206284</th>\n",
       "      <td>2013</td>\n",
       "      <td>7</td>\n",
       "      <td>1</td>\n",
       "      <td>0</td>\n",
       "      <td>2</td>\n",
       "      <td>4</td>\n",
       "      <td>4</td>\n",
       "      <td>1</td>\n",
       "      <td>2</td>\n",
       "      <td>2</td>\n",
       "      <td>1</td>\n",
       "      <td>0</td>\n",
       "      <td>NaN</td>\n",
       "    </tr>\n",
       "  </tbody>\n",
       "</table>\n",
       "<p>1232950 rows × 13 columns</p>\n",
       "</div>"
      ]
     },
     "execution_count": 16,
     "metadata": {},
     "output_type": "execute_result"
    }
   ],
   "execution_count": 16
  },
  {
   "metadata": {
    "ExecuteTime": {
     "end_time": "2024-07-19T16:59:49.006994Z",
     "start_time": "2024-07-19T16:59:48.998453Z"
    }
   },
   "cell_type": "code",
   "source": "df.cluster.value_counts()",
   "id": "458e8f31a36aaee0",
   "outputs": [
    {
     "data": {
      "text/plain": [
       "cluster\n",
       "1.0    343667\n",
       "2.0    178598\n",
       "0.0     53688\n",
       "3.0     33594\n",
       "4.0     16375\n",
       "Name: count, dtype: int64"
      ]
     },
     "execution_count": 17,
     "metadata": {},
     "output_type": "execute_result"
    }
   ],
   "execution_count": 17
  },
  {
   "metadata": {},
   "cell_type": "code",
   "outputs": [],
   "execution_count": null,
   "source": "",
   "id": "9ff8ebc90b3b7992"
  }
 ],
 "metadata": {
  "kernelspec": {
   "display_name": "Python 3",
   "language": "python",
   "name": "python3"
  },
  "language_info": {
   "codemirror_mode": {
    "name": "ipython",
    "version": 2
   },
   "file_extension": ".py",
   "mimetype": "text/x-python",
   "name": "python",
   "nbconvert_exporter": "python",
   "pygments_lexer": "ipython2",
   "version": "2.7.6"
  }
 },
 "nbformat": 4,
 "nbformat_minor": 5
}
