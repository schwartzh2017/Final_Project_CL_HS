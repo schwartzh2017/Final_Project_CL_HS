{
 "cells": [
  {
   "cell_type": "code",
   "id": "initial_id",
   "metadata": {
    "collapsed": true,
    "ExecuteTime": {
     "end_time": "2024-08-12T18:33:19.544236Z",
     "start_time": "2024-08-12T18:33:16.367340Z"
    }
   },
   "source": [
    "import numpy as np\n",
    "import pandas as pd\n",
    "import torch\n",
    "import torch.nn as nn\n",
    "import copy\n",
    "import torch.optim as optim\n",
    "import tqdm\n",
    "import matplotlib.pyplot as plt\n",
    "from sklearn.metrics import f1_score\n",
    "from torch.utils.data import TensorDataset, DataLoader\n",
    "from sklearn.preprocessing import StandardScaler\n",
    "from torch.utils.data import Dataset, DataLoader\n",
    "from sklearn.model_selection import StratifiedKFold, train_test_split\n",
    "import warnings\n",
    "\n",
    "warnings.filterwarnings('ignore')\n",
    "np.set_printoptions(threshold=10_000)\n",
    "df1 = pd.read_csv('datasets/bcsc_risk_factors_expanded1.csv')\n",
    "df2 = pd.read_csv('datasets/bcsc_risk_factors_expanded2.csv')\n",
    "df3 = pd.read_csv('datasets/bcsc_risk_factors_expanded3.csv')\n",
    "#slight cleaning\n",
    "df = pd.concat([df1, df2, df3])\n",
    "df = df[df.ne(9).all(1)]  #drop unknowns (9s)\n",
    "df.drop(['year'], axis=1, inplace=True)\n"
   ],
   "outputs": [],
   "execution_count": 1
  },
  {
   "metadata": {
    "ExecuteTime": {
     "end_time": "2024-08-12T18:33:20.494364Z",
     "start_time": "2024-08-12T18:33:20.481718Z"
    }
   },
   "cell_type": "code",
   "source": [
    "history_counts = df.breast_cancer_history.value_counts()\n",
    "print(history_counts)\n",
    "print(history_counts[1] / history_counts.sum())"
   ],
   "id": "ee4bfbdc49b390ed",
   "outputs": [
    {
     "name": "stdout",
     "output_type": "stream",
     "text": [
      "breast_cancer_history\n",
      "0    1161727\n",
      "1      71223\n",
      "Name: count, dtype: int64\n",
      "0.05776633277910702\n"
     ]
    }
   ],
   "execution_count": 2
  },
  {
   "metadata": {
    "ExecuteTime": {
     "end_time": "2024-08-12T18:33:25.338859Z",
     "start_time": "2024-08-12T18:33:21.849303Z"
    }
   },
   "cell_type": "code",
   "source": [
    "X = df.iloc[:, 0:df.shape[1] - 1]\n",
    "y = df.iloc[:, df.shape[1] - 1]\n",
    "from imblearn.over_sampling import SMOTE\n",
    "\n",
    "X_train, X_test, y_train, y_test = train_test_split(X, y, test_size=0.3, random_state=42)\n",
    "\n",
    "# Scale the features\n",
    "scaler = StandardScaler()\n",
    "X_train_scaled = scaler.fit_transform(X_train)\n",
    "X_test_scaled = scaler.transform(X_test)\n",
    "\n",
    "# Balance the dataset using SMOTE\n",
    "smote = SMOTE(random_state=42)\n",
    "X_train_balanced, y_train_balanced = smote.fit_resample(X_train_scaled, y_train)\n"
   ],
   "id": "194476384367941f",
   "outputs": [],
   "execution_count": 3
  },
  {
   "metadata": {
    "ExecuteTime": {
     "end_time": "2024-08-12T18:33:25.968195Z",
     "start_time": "2024-08-12T18:33:25.963921Z"
    }
   },
   "cell_type": "code",
   "source": [
    "x_df = pd.DataFrame(X_train_balanced, columns=X_train.columns)\n",
    "y_df = pd.DataFrame(y_train_balanced)\n",
    "x_test_df = pd.DataFrame(X_test_scaled, columns=X_test.columns)\n",
    "y_test.reset_index(drop=True, inplace=True)"
   ],
   "id": "32398f2330b450aa",
   "outputs": [],
   "execution_count": 4
  },
  {
   "metadata": {
    "ExecuteTime": {
     "end_time": "2024-08-12T18:33:27.140856Z",
     "start_time": "2024-08-12T18:33:27.028374Z"
    }
   },
   "cell_type": "code",
   "source": [
    "train_data = pd.concat([x_df, y_df], axis=1)\n",
    "test_data = pd.concat([x_test_df, y_test], axis=1)\n",
    "test_data"
   ],
   "id": "eb44fd58321ff205",
   "outputs": [
    {
     "data": {
      "text/plain": [
       "        age_group_5_years  race_eth  first_degree_hx  age_menarche  \\\n",
       "0                2.626191 -0.577306        -0.442635     -1.341183   \n",
       "1                2.203393 -0.577306        -0.442635     -1.341183   \n",
       "2               -0.333396  0.977338        -0.442635      0.135467   \n",
       "3                0.512200 -0.577306        -0.442635      0.135467   \n",
       "4                2.203393  0.200016        -0.442635      0.135467   \n",
       "...                   ...       ...              ...           ...   \n",
       "369880          -0.333396  0.200016        -0.442635      0.135467   \n",
       "369881           1.357797 -0.577306        -0.442635      1.612117   \n",
       "369882           0.089402 -0.577306        -0.442635      0.135467   \n",
       "369883           0.089402  0.977338        -0.442635      0.135467   \n",
       "369884          -0.756194  0.200016         2.259197      1.612117   \n",
       "\n",
       "        age_first_birth  BIRADS_breast_density  current_hrt  menopaus  \\\n",
       "0             -0.846732               0.569867    -0.161815  0.536130   \n",
       "1             -0.846732              -2.023653    -0.161815  0.536130   \n",
       "2             -1.595376               1.866627    -0.161815  2.167084   \n",
       "3              1.399199               1.866627    -0.161815  0.536130   \n",
       "4             -0.846732               0.569867    -0.161815  0.536130   \n",
       "...                 ...                    ...          ...       ...   \n",
       "369880        -0.846732               0.569867    -0.161815  2.167084   \n",
       "369881        -0.846732              -0.726893    -0.161815  0.536130   \n",
       "369882         1.399199               0.569867    -0.161815  0.536130   \n",
       "369883         0.650555               1.866627    -0.161815 -1.094825   \n",
       "369884        -1.595376              -0.726893    -0.161815  2.167084   \n",
       "\n",
       "        bmi_group    biophx  breast_cancer_history  \n",
       "0       -0.052099  1.812453                      0  \n",
       "1       -1.009219 -0.551738                      0  \n",
       "2       -1.009219 -0.551738                      0  \n",
       "3       -1.009219 -0.551738                      0  \n",
       "4       -1.009219  1.812453                      0  \n",
       "...           ...       ...                    ...  \n",
       "369880   0.905021  1.812453                      0  \n",
       "369881  -0.052099 -0.551738                      0  \n",
       "369882   0.905021 -0.551738                      0  \n",
       "369883  -1.009219 -0.551738                      1  \n",
       "369884   0.905021  1.812453                      0  \n",
       "\n",
       "[369885 rows x 11 columns]"
      ],
      "text/html": [
       "<div>\n",
       "<style scoped>\n",
       "    .dataframe tbody tr th:only-of-type {\n",
       "        vertical-align: middle;\n",
       "    }\n",
       "\n",
       "    .dataframe tbody tr th {\n",
       "        vertical-align: top;\n",
       "    }\n",
       "\n",
       "    .dataframe thead th {\n",
       "        text-align: right;\n",
       "    }\n",
       "</style>\n",
       "<table border=\"1\" class=\"dataframe\">\n",
       "  <thead>\n",
       "    <tr style=\"text-align: right;\">\n",
       "      <th></th>\n",
       "      <th>age_group_5_years</th>\n",
       "      <th>race_eth</th>\n",
       "      <th>first_degree_hx</th>\n",
       "      <th>age_menarche</th>\n",
       "      <th>age_first_birth</th>\n",
       "      <th>BIRADS_breast_density</th>\n",
       "      <th>current_hrt</th>\n",
       "      <th>menopaus</th>\n",
       "      <th>bmi_group</th>\n",
       "      <th>biophx</th>\n",
       "      <th>breast_cancer_history</th>\n",
       "    </tr>\n",
       "  </thead>\n",
       "  <tbody>\n",
       "    <tr>\n",
       "      <th>0</th>\n",
       "      <td>2.626191</td>\n",
       "      <td>-0.577306</td>\n",
       "      <td>-0.442635</td>\n",
       "      <td>-1.341183</td>\n",
       "      <td>-0.846732</td>\n",
       "      <td>0.569867</td>\n",
       "      <td>-0.161815</td>\n",
       "      <td>0.536130</td>\n",
       "      <td>-0.052099</td>\n",
       "      <td>1.812453</td>\n",
       "      <td>0</td>\n",
       "    </tr>\n",
       "    <tr>\n",
       "      <th>1</th>\n",
       "      <td>2.203393</td>\n",
       "      <td>-0.577306</td>\n",
       "      <td>-0.442635</td>\n",
       "      <td>-1.341183</td>\n",
       "      <td>-0.846732</td>\n",
       "      <td>-2.023653</td>\n",
       "      <td>-0.161815</td>\n",
       "      <td>0.536130</td>\n",
       "      <td>-1.009219</td>\n",
       "      <td>-0.551738</td>\n",
       "      <td>0</td>\n",
       "    </tr>\n",
       "    <tr>\n",
       "      <th>2</th>\n",
       "      <td>-0.333396</td>\n",
       "      <td>0.977338</td>\n",
       "      <td>-0.442635</td>\n",
       "      <td>0.135467</td>\n",
       "      <td>-1.595376</td>\n",
       "      <td>1.866627</td>\n",
       "      <td>-0.161815</td>\n",
       "      <td>2.167084</td>\n",
       "      <td>-1.009219</td>\n",
       "      <td>-0.551738</td>\n",
       "      <td>0</td>\n",
       "    </tr>\n",
       "    <tr>\n",
       "      <th>3</th>\n",
       "      <td>0.512200</td>\n",
       "      <td>-0.577306</td>\n",
       "      <td>-0.442635</td>\n",
       "      <td>0.135467</td>\n",
       "      <td>1.399199</td>\n",
       "      <td>1.866627</td>\n",
       "      <td>-0.161815</td>\n",
       "      <td>0.536130</td>\n",
       "      <td>-1.009219</td>\n",
       "      <td>-0.551738</td>\n",
       "      <td>0</td>\n",
       "    </tr>\n",
       "    <tr>\n",
       "      <th>4</th>\n",
       "      <td>2.203393</td>\n",
       "      <td>0.200016</td>\n",
       "      <td>-0.442635</td>\n",
       "      <td>0.135467</td>\n",
       "      <td>-0.846732</td>\n",
       "      <td>0.569867</td>\n",
       "      <td>-0.161815</td>\n",
       "      <td>0.536130</td>\n",
       "      <td>-1.009219</td>\n",
       "      <td>1.812453</td>\n",
       "      <td>0</td>\n",
       "    </tr>\n",
       "    <tr>\n",
       "      <th>...</th>\n",
       "      <td>...</td>\n",
       "      <td>...</td>\n",
       "      <td>...</td>\n",
       "      <td>...</td>\n",
       "      <td>...</td>\n",
       "      <td>...</td>\n",
       "      <td>...</td>\n",
       "      <td>...</td>\n",
       "      <td>...</td>\n",
       "      <td>...</td>\n",
       "      <td>...</td>\n",
       "    </tr>\n",
       "    <tr>\n",
       "      <th>369880</th>\n",
       "      <td>-0.333396</td>\n",
       "      <td>0.200016</td>\n",
       "      <td>-0.442635</td>\n",
       "      <td>0.135467</td>\n",
       "      <td>-0.846732</td>\n",
       "      <td>0.569867</td>\n",
       "      <td>-0.161815</td>\n",
       "      <td>2.167084</td>\n",
       "      <td>0.905021</td>\n",
       "      <td>1.812453</td>\n",
       "      <td>0</td>\n",
       "    </tr>\n",
       "    <tr>\n",
       "      <th>369881</th>\n",
       "      <td>1.357797</td>\n",
       "      <td>-0.577306</td>\n",
       "      <td>-0.442635</td>\n",
       "      <td>1.612117</td>\n",
       "      <td>-0.846732</td>\n",
       "      <td>-0.726893</td>\n",
       "      <td>-0.161815</td>\n",
       "      <td>0.536130</td>\n",
       "      <td>-0.052099</td>\n",
       "      <td>-0.551738</td>\n",
       "      <td>0</td>\n",
       "    </tr>\n",
       "    <tr>\n",
       "      <th>369882</th>\n",
       "      <td>0.089402</td>\n",
       "      <td>-0.577306</td>\n",
       "      <td>-0.442635</td>\n",
       "      <td>0.135467</td>\n",
       "      <td>1.399199</td>\n",
       "      <td>0.569867</td>\n",
       "      <td>-0.161815</td>\n",
       "      <td>0.536130</td>\n",
       "      <td>0.905021</td>\n",
       "      <td>-0.551738</td>\n",
       "      <td>0</td>\n",
       "    </tr>\n",
       "    <tr>\n",
       "      <th>369883</th>\n",
       "      <td>0.089402</td>\n",
       "      <td>0.977338</td>\n",
       "      <td>-0.442635</td>\n",
       "      <td>0.135467</td>\n",
       "      <td>0.650555</td>\n",
       "      <td>1.866627</td>\n",
       "      <td>-0.161815</td>\n",
       "      <td>-1.094825</td>\n",
       "      <td>-1.009219</td>\n",
       "      <td>-0.551738</td>\n",
       "      <td>1</td>\n",
       "    </tr>\n",
       "    <tr>\n",
       "      <th>369884</th>\n",
       "      <td>-0.756194</td>\n",
       "      <td>0.200016</td>\n",
       "      <td>2.259197</td>\n",
       "      <td>1.612117</td>\n",
       "      <td>-1.595376</td>\n",
       "      <td>-0.726893</td>\n",
       "      <td>-0.161815</td>\n",
       "      <td>2.167084</td>\n",
       "      <td>0.905021</td>\n",
       "      <td>1.812453</td>\n",
       "      <td>0</td>\n",
       "    </tr>\n",
       "  </tbody>\n",
       "</table>\n",
       "<p>369885 rows × 11 columns</p>\n",
       "</div>"
      ]
     },
     "execution_count": 5,
     "metadata": {},
     "output_type": "execute_result"
    }
   ],
   "execution_count": 5
  },
  {
   "metadata": {
    "ExecuteTime": {
     "end_time": "2024-08-12T18:33:28.088624Z",
     "start_time": "2024-08-12T18:33:28.080575Z"
    }
   },
   "cell_type": "code",
   "source": "test_data.breast_cancer_history.value_counts()",
   "id": "afdb89ae1125379",
   "outputs": [
    {
     "data": {
      "text/plain": [
       "breast_cancer_history\n",
       "0    348470\n",
       "1     21415\n",
       "Name: count, dtype: int64"
      ]
     },
     "execution_count": 6,
     "metadata": {},
     "output_type": "execute_result"
    }
   ],
   "execution_count": 6
  },
  {
   "metadata": {
    "ExecuteTime": {
     "end_time": "2024-08-12T18:33:29.199142Z",
     "start_time": "2024-08-12T18:33:29.196222Z"
    }
   },
   "cell_type": "code",
   "source": "all_cols = df.columns.tolist()",
   "id": "81f51e8a022db1b0",
   "outputs": [],
   "execution_count": 7
  },
  {
   "metadata": {
    "ExecuteTime": {
     "end_time": "2024-08-12T18:33:30.397842Z",
     "start_time": "2024-08-12T18:33:30.394157Z"
    }
   },
   "cell_type": "code",
   "source": [
    "# Define a custom PyTorch dataset\n",
    "class Ca_Dataset(Dataset):\n",
    "    def __init__(self, data):\n",
    "        self.X = data[[col for col in all_cols if col != \"breast_cancer_history\"]].values  # Exclude target column\n",
    "        self.y = data[\"breast_cancer_history\"].values\n",
    "        self.n_samples = len(data)\n",
    "\n",
    "    def __getitem__(self, index):\n",
    "        return torch.tensor(self.X[index], dtype=torch.float32), torch.tensor(self.y[index], dtype=torch.int64)\n",
    "\n",
    "    def __len__(self):\n",
    "        return self.n_samples"
   ],
   "id": "36b941ac0b612571",
   "outputs": [],
   "execution_count": 8
  },
  {
   "metadata": {
    "ExecuteTime": {
     "end_time": "2024-08-12T18:33:43.300147Z",
     "start_time": "2024-08-12T18:33:43.154063Z"
    }
   },
   "cell_type": "code",
   "source": [
    "# Create PyTorch datasets and dataloaders\n",
    "train_dataset = Ca_Dataset(train_data)\n",
    "test_dataset = Ca_Dataset(test_data)\n",
    "\n",
    "train_loader = DataLoader(dataset=train_dataset, batch_size=1000, shuffle=True)\n",
    "test_loader = DataLoader(dataset=test_dataset, batch_size=1000, shuffle=True)"
   ],
   "id": "718189adc54d436",
   "outputs": [],
   "execution_count": 9
  },
  {
   "metadata": {
    "ExecuteTime": {
     "end_time": "2024-08-12T18:33:44.004583Z",
     "start_time": "2024-08-12T18:33:44.001763Z"
    }
   },
   "cell_type": "code",
   "source": [
    "# Define a simple neural network with one hidden layer\n",
    "class Ca_NN(nn.Module):\n",
    "    def __init__(self, input_size, hidden_size, num_classes):\n",
    "        super(Ca_NN, self).__init__()\n",
    "        self.fc1 = nn.Linear(input_size, hidden_size)\n",
    "        self.relu = nn.ReLU()\n",
    "        self.fc2 = nn.Linear(hidden_size, num_classes)\n",
    "        self.sigmoid = nn.Sigmoid()\n",
    "        #self.hidden1 = nn.Linear(input_size, hidden_size)\n",
    "        #self.relu1 = nn.ReLU()\n",
    "        #self.hidden2 = nn.Linear(hidden_size, input_size)\n",
    "        #self.relu2 = nn.ReLU()\n",
    "        #self.output = nn.Linear(input_size, 1)\n",
    "        #self.sigmoid = nn.Sigmoid()\n",
    "        \n",
    "    def forward(self, x):\n",
    "        #x = self.relu1(self.hidden1(x))\n",
    "        #x = self.relu2(self.hidden2(x))\n",
    "        #x = self.sigmoid(self.output(x))\n",
    "        #out = self.fc1(x)\n",
    "        #out = self.relu(out)\n",
    "        #out = self.fc2(out)\n",
    "        x = self.relu(self.fc1(x))\n",
    "        x = self.sigmoid(self.fc2(x))\n",
    "        return x"
   ],
   "id": "58c32afd55196d56",
   "outputs": [],
   "execution_count": 10
  },
  {
   "metadata": {
    "ExecuteTime": {
     "end_time": "2024-08-12T18:34:04.534091Z",
     "start_time": "2024-08-12T18:34:04.529528Z"
    }
   },
   "cell_type": "code",
   "source": [
    "class BinaryClassification(nn.Module):\n",
    "    def __init__(self):\n",
    "        super(BinaryClassification, self).__init__()\n",
    "        # Number of input features is 10.\n",
    "        self.layer_1 = nn.Linear(10, 1000) \n",
    "        self.layer_2 = nn.Linear(1000, 1000)\n",
    "        self.layer_out = nn.Linear(1000, 1) \n",
    "        \n",
    "        self.relu = nn.ReLU()\n",
    "        self.dropout = nn.Dropout(p=0.1)\n",
    "        self.batchnorm1 = nn.BatchNorm1d(1000)\n",
    "        self.batchnorm2 = nn.BatchNorm1d(1000)\n",
    "        \n",
    "    def forward(self, inputs):\n",
    "        x = self.relu(self.layer_1(inputs))\n",
    "        x = self.batchnorm1(x)\n",
    "        x = self.relu(self.layer_2(x))\n",
    "        x = self.batchnorm2(x)\n",
    "        x = self.dropout(x)\n",
    "        x = self.layer_out(x)\n",
    "        \n",
    "        return x"
   ],
   "id": "90a867e155d53aaa",
   "outputs": [],
   "execution_count": 15
  },
  {
   "metadata": {
    "ExecuteTime": {
     "end_time": "2024-08-12T18:34:05.469279Z",
     "start_time": "2024-08-12T18:34:05.464892Z"
    }
   },
   "cell_type": "code",
   "source": [
    "class Deep(nn.Module):\n",
    "    def __init__(self, input_size, hidden_size):\n",
    "        super(Deep, self).__init__()\n",
    "        self.layer1 = nn.Linear(input_size, hidden_size)\n",
    "        self.act1 = nn.ReLU()\n",
    "        self.layer2 = nn.Linear(hidden_size, input_size)\n",
    "        self.act2 = nn.ReLU()\n",
    "        self.layer3 = nn.Linear(input_size, hidden_size)\n",
    "        self.act3 = nn.ReLU()\n",
    "        self.output = nn.Linear(hidden_size, 1)\n",
    "        self.sigmoid = nn.Sigmoid()\n",
    " \n",
    "    def forward(self, x):\n",
    "        x = self.act1(self.layer1(x))\n",
    "        x = self.act2(self.layer2(x))\n",
    "        x = self.act3(self.layer3(x))\n",
    "        x = self.sigmoid(self.output(x))\n",
    "        return x"
   ],
   "id": "7a3008b7912832c4",
   "outputs": [],
   "execution_count": 16
  },
  {
   "metadata": {
    "ExecuteTime": {
     "end_time": "2024-08-12T18:34:06.404576Z",
     "start_time": "2024-08-12T18:34:06.393384Z"
    }
   },
   "cell_type": "code",
   "source": [
    "# Initialize the model, loss function, and optimizer\n",
    "input_size = 10 #number of features\n",
    "hidden_size = 1000\n",
    "num_classes = 1\n",
    "learning_rate = 0.001\n",
    "\n",
    "#model = Ca_NN(input_size, hidden_size, num_classes)\n",
    "model = BinaryClassification()\n",
    "#model = Deep(input_size, hidden_size)\n",
    "#criterion = nn.CrossEntropyLoss()\n",
    "#criterion = nn.BCELoss()\n",
    "criterion = nn.BCEWithLogitsLoss()\n",
    "optimizer = optim.Adam(model.parameters(), lr=learning_rate)"
   ],
   "id": "cf8eb56762d2764b",
   "outputs": [],
   "execution_count": 17
  },
  {
   "metadata": {
    "ExecuteTime": {
     "end_time": "2024-08-12T19:36:41.993380Z",
     "start_time": "2024-08-12T18:34:07.499116Z"
    }
   },
   "cell_type": "code",
   "source": [
    "# Training loop\n",
    "num_epochs = 50 \n",
    "losses = []\n",
    "\n",
    "for epoch in range(num_epochs):\n",
    "    model.train()\n",
    "    running_loss = 0.0\n",
    "    correct = 0\n",
    "    total = 0\n",
    "    for inputs, targets in train_loader:\n",
    "        optimizer.zero_grad()\n",
    "        outputs = model(inputs)\n",
    "        loss = criterion(outputs, targets.unsqueeze(1).float())\n",
    "        probabs = torch.sigmoid(outputs)\n",
    "        out = probabs.data.round().squeeze()\n",
    "        tar = targets\n",
    "        loss.backward()\n",
    "        optimizer.step()\n",
    "        correct += torch.eq(tar, out).float().count_nonzero()\n",
    "        running_loss += loss.item()\n",
    "        total += targets.size(0)\n",
    "    epoch_loss = running_loss / len(train_loader)\n",
    "    losses.append(epoch_loss)\n",
    "    accuracy = correct / total\n",
    "    print(f\"Epoch {epoch+1}/{num_epochs}, Loss: {epoch_loss:.4f}, Accuracy: {accuracy:.2%}\")"
   ],
   "id": "c7bb2420ded299a3",
   "outputs": [
    {
     "name": "stdout",
     "output_type": "stream",
     "text": [
      "Epoch 1/50, Loss: 0.4806, Accuracy: 77.70%\n",
      "Epoch 2/50, Loss: 0.4690, Accuracy: 78.17%\n",
      "Epoch 3/50, Loss: 0.4606, Accuracy: 78.59%\n",
      "Epoch 4/50, Loss: 0.4534, Accuracy: 78.95%\n",
      "Epoch 5/50, Loss: 0.4475, Accuracy: 79.24%\n",
      "Epoch 6/50, Loss: 0.4421, Accuracy: 79.52%\n",
      "Epoch 7/50, Loss: 0.4374, Accuracy: 79.78%\n",
      "Epoch 8/50, Loss: 0.4336, Accuracy: 79.98%\n",
      "Epoch 9/50, Loss: 0.4299, Accuracy: 80.18%\n",
      "Epoch 10/50, Loss: 0.4270, Accuracy: 80.32%\n",
      "Epoch 11/50, Loss: 0.4248, Accuracy: 80.44%\n",
      "Epoch 12/50, Loss: 0.4226, Accuracy: 80.56%\n",
      "Epoch 13/50, Loss: 0.4207, Accuracy: 80.62%\n",
      "Epoch 14/50, Loss: 0.4185, Accuracy: 80.75%\n",
      "Epoch 15/50, Loss: 0.4164, Accuracy: 80.83%\n",
      "Epoch 16/50, Loss: 0.4151, Accuracy: 80.95%\n",
      "Epoch 17/50, Loss: 0.4136, Accuracy: 80.98%\n",
      "Epoch 18/50, Loss: 0.4119, Accuracy: 81.06%\n",
      "Epoch 19/50, Loss: 0.4108, Accuracy: 81.15%\n",
      "Epoch 20/50, Loss: 0.4096, Accuracy: 81.22%\n",
      "Epoch 21/50, Loss: 0.4085, Accuracy: 81.25%\n",
      "Epoch 22/50, Loss: 0.4070, Accuracy: 81.32%\n",
      "Epoch 23/50, Loss: 0.4063, Accuracy: 81.39%\n",
      "Epoch 24/50, Loss: 0.4047, Accuracy: 81.44%\n",
      "Epoch 25/50, Loss: 0.4036, Accuracy: 81.50%\n",
      "Epoch 26/50, Loss: 0.4028, Accuracy: 81.55%\n",
      "Epoch 27/50, Loss: 0.4017, Accuracy: 81.59%\n",
      "Epoch 28/50, Loss: 0.4008, Accuracy: 81.62%\n",
      "Epoch 29/50, Loss: 0.3998, Accuracy: 81.69%\n",
      "Epoch 30/50, Loss: 0.3989, Accuracy: 81.73%\n",
      "Epoch 31/50, Loss: 0.3981, Accuracy: 81.77%\n",
      "Epoch 32/50, Loss: 0.3977, Accuracy: 81.80%\n",
      "Epoch 33/50, Loss: 0.3967, Accuracy: 81.85%\n",
      "Epoch 34/50, Loss: 0.3958, Accuracy: 81.89%\n",
      "Epoch 35/50, Loss: 0.3952, Accuracy: 81.92%\n",
      "Epoch 36/50, Loss: 0.3944, Accuracy: 81.97%\n",
      "Epoch 37/50, Loss: 0.3942, Accuracy: 81.94%\n",
      "Epoch 38/50, Loss: 0.3933, Accuracy: 82.03%\n",
      "Epoch 39/50, Loss: 0.3925, Accuracy: 82.07%\n",
      "Epoch 40/50, Loss: 0.3917, Accuracy: 82.07%\n",
      "Epoch 41/50, Loss: 0.3911, Accuracy: 82.12%\n",
      "Epoch 42/50, Loss: 0.3906, Accuracy: 82.15%\n",
      "Epoch 43/50, Loss: 0.3901, Accuracy: 82.16%\n",
      "Epoch 44/50, Loss: 0.3895, Accuracy: 82.18%\n",
      "Epoch 45/50, Loss: 0.3890, Accuracy: 82.24%\n",
      "Epoch 46/50, Loss: 0.3886, Accuracy: 82.25%\n",
      "Epoch 47/50, Loss: 0.3882, Accuracy: 82.24%\n",
      "Epoch 48/50, Loss: 0.3876, Accuracy: 82.28%\n",
      "Epoch 49/50, Loss: 0.3872, Accuracy: 82.29%\n",
      "Epoch 50/50, Loss: 0.3865, Accuracy: 82.32%\n"
     ]
    }
   ],
   "execution_count": 18
  },
  {
   "metadata": {
    "ExecuteTime": {
     "end_time": "2024-08-12T20:04:41.376346Z",
     "start_time": "2024-08-12T20:04:34.803872Z"
    }
   },
   "cell_type": "code",
   "source": [
    "model.eval()\n",
    "correct = 0\n",
    "total = 0\n",
    "\n",
    "with torch.no_grad():\n",
    "    for inputs, targets in test_loader:\n",
    "        outputs = model(inputs)\n",
    "        probabs = torch.sigmoid(outputs)\n",
    "        total += targets.size(0)\n",
    "        out = probabs.data.round().squeeze()\n",
    "        correct += torch.eq(targets, out).float().count_nonzero()\n",
    "\n",
    "accuracy = correct / total\n",
    "print(f\"Accuracy on test set: {accuracy:.2%}\")"
   ],
   "id": "31fa7523d9dd4336",
   "outputs": [
    {
     "name": "stdout",
     "output_type": "stream",
     "text": [
      "Accuracy on test set: 77.86%\n"
     ]
    }
   ],
   "execution_count": 19
  },
  {
   "metadata": {
    "ExecuteTime": {
     "end_time": "2024-08-12T20:04:44.257256Z",
     "start_time": "2024-08-12T20:04:44.081037Z"
    }
   },
   "cell_type": "code",
   "source": [
    "plt.plot(losses)\n",
    "plt.title('loss vs epochs')\n",
    "plt.xlabel('epochs')\n",
    "plt.ylabel('loss')\n",
    "plt.savefig('loss_vs_epochs.png')"
   ],
   "id": "10b7a10e3fe13bca",
   "outputs": [
    {
     "data": {
      "text/plain": [
       "<Figure size 640x480 with 1 Axes>"
      ],
      "image/png": "[encoded data removed]"
     },
     "metadata": {},
     "output_type": "display_data"
    }
   ],
   "execution_count": 20
  },
  {
   "metadata": {
    "ExecuteTime": {
     "end_time": "2024-08-12T20:04:48.090117Z",
     "start_time": "2024-08-12T20:04:48.086779Z"
    }
   },
   "cell_type": "code",
   "source": [
    "from sklearn.metrics import confusion_matrix\n",
    "import seaborn as sns\n",
    "\n",
    "\n",
    "def plot_confusion_matrix(model_f, X_test_tensor_f, y_test_tensor_f):\n",
    "    # Set the model to evaluation mode\n",
    "    model_f.eval()\n",
    "\n",
    "    # Get predictions\n",
    "    with torch.no_grad():\n",
    "        y_pred = model_f(X_test_tensor_f)\n",
    "        y_pred = torch.sigmoid(y_pred)\n",
    "        y_pred_class = y_pred.round()\n",
    "\n",
    "    # Convert tensors to numpy arrays\n",
    "    y_true = y_test_tensor_f.numpy()\n",
    "    y_pred = y_pred_class.numpy()\n",
    "\n",
    "    # Compute confusion matrix\n",
    "    cm = confusion_matrix(y_true, y_pred)\n",
    "\n",
    "    # Plot the confusion matrix\n",
    "    plt.figure(figsize=(10,7))\n",
    "    sns.heatmap(cm, annot=True, fmt='d', cmap='Blues')\n",
    "    plt.title('Confusion Matrix')\n",
    "    plt.ylabel('True label')\n",
    "    plt.xlabel('Predicted label')\n",
    "    #plt.show()\n",
    "    plt.savefig('Confusion_Matrix.png')\n",
    "\n",
    "    # Print classification report\n",
    "    from sklearn.metrics import classification_report\n",
    "    print(classification_report(y_true, y_pred))"
   ],
   "id": "87b3de92c2d7fa33",
   "outputs": [],
   "execution_count": 21
  },
  {
   "metadata": {
    "ExecuteTime": {
     "end_time": "2024-08-12T20:04:50.686119Z",
     "start_time": "2024-08-12T20:04:50.654322Z"
    }
   },
   "cell_type": "code",
   "source": [
    "X_test_tensor = torch.tensor(X_test_scaled, dtype=torch.float32)\n",
    "y_test_tensor = torch.tensor(y_test.values, dtype=torch.float32)"
   ],
   "id": "7b7d0534f59be267",
   "outputs": [],
   "execution_count": 22
  },
  {
   "metadata": {
    "ExecuteTime": {
     "end_time": "2024-08-12T20:04:57.608367Z",
     "start_time": "2024-08-12T20:04:51.188010Z"
    }
   },
   "cell_type": "code",
   "source": "plot_confusion_matrix(model, X_test_tensor, y_test_tensor)",
   "id": "3b920d7289290f8c",
   "outputs": [
    {
     "name": "stdout",
     "output_type": "stream",
     "text": [
      "              precision    recall  f1-score   support\n",
      "\n",
      "         0.0       0.98      0.78      0.87    348470\n",
      "         1.0       0.18      0.77      0.29     21415\n",
      "\n",
      "    accuracy                           0.78    369885\n",
      "   macro avg       0.58      0.78      0.58    369885\n",
      "weighted avg       0.94      0.78      0.84    369885\n",
      "\n"
     ]
    },
    {
     "data": {
      "text/plain": [
       "<Figure size 1000x700 with 2 Axes>"
      ],
      "image/png": "[encoded data removed]"
     },
     "metadata": {},
     "output_type": "display_data"
    }
   ],
   "execution_count": 23
  },
  {
   "metadata": {},
   "cell_type": "code",
   "outputs": [],
   "execution_count": null,
   "source": "",
   "id": "56fd8039c002fd56"
  }
 ],
 "metadata": {
  "kernelspec": {
   "display_name": "Python 3",
   "language": "python",
   "name": "python3"
  },
  "language_info": {
   "codemirror_mode": {
    "name": "ipython",
    "version": 2
   },
   "file_extension": ".py",
   "mimetype": "text/x-python",
   "name": "python",
   "nbconvert_exporter": "python",
   "pygments_lexer": "ipython2",
   "version": "2.7.6"
  }
 },
 "nbformat": 4,
 "nbformat_minor": 5
}
