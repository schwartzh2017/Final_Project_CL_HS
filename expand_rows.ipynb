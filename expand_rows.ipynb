{
 "cells": [
  {
   "cell_type": "code",
   "execution_count": 1,
   "id": "initial_id",
   "metadata": {
    "ExecuteTime": {
     "end_time": "2024-07-19T15:54:28.340833Z",
     "start_time": "2024-07-19T15:54:28.339150Z"
    },
    "collapsed": true
   },
   "outputs": [],
   "source": [
    "import pandas as pd\n",
    "import numpy as np"
   ]
  },
  {
   "cell_type": "code",
   "execution_count": 3,
   "id": "1defacaac18fac82",
   "metadata": {
    "ExecuteTime": {
     "end_time": "2024-07-19T15:54:42.310452Z",
     "start_time": "2024-07-19T15:54:41.935140Z"
    }
   },
   "outputs": [],
   "source": [
    "# df1 = pd.read_csv('bcsc_risk_factors_summarized1_092020.csv')\n",
    "# df2 = pd.read_csv('bcsc_risk_factors_summarized2_092020.csv')\n",
    "# df3 = pd.read_csv('bcsc_risk_factors_summarized3_092020.csv')\n",
    "\n",
    "df1 = pd.read_csv('/Users/Haleigh/Documents/MSDS/Adv_ML/Final_Project_CL_HS/datasets/bcsc_risk_factors_summarized1_092020.csv')\n",
    "df2 = pd.read_csv('/Users/Haleigh/Documents/MSDS/Adv_ML/Final_Project_CL_HS/datasets/bcsc_risk_factors_summarized2_092020.csv')\n",
    "df3 = pd.read_csv('/Users/Haleigh/Documents/MSDS/Adv_ML/Final_Project_CL_HS/datasets/bcsc_risk_factors_summarized3_092020.csv')"
   ]
  },
  {
   "cell_type": "code",
   "execution_count": 4,
   "id": "86c62eca5e0a3390",
   "metadata": {
    "ExecuteTime": {
     "end_time": "2024-07-19T15:54:51.394302Z",
     "start_time": "2024-07-19T15:54:51.385170Z"
    }
   },
   "outputs": [
    {
     "data": {
      "text/html": [
       "<div>\n",
       "<style scoped>\n",
       "    .dataframe tbody tr th:only-of-type {\n",
       "        vertical-align: middle;\n",
       "    }\n",
       "\n",
       "    .dataframe tbody tr th {\n",
       "        vertical-align: top;\n",
       "    }\n",
       "\n",
       "    .dataframe thead th {\n",
       "        text-align: right;\n",
       "    }\n",
       "</style>\n",
       "<table border=\"1\" class=\"dataframe\">\n",
       "  <thead>\n",
       "    <tr style=\"text-align: right;\">\n",
       "      <th></th>\n",
       "      <th>year</th>\n",
       "      <th>age_group_5_years</th>\n",
       "      <th>race_eth</th>\n",
       "      <th>first_degree_hx</th>\n",
       "      <th>age_menarche</th>\n",
       "      <th>age_first_birth</th>\n",
       "      <th>BIRADS_breast_density</th>\n",
       "      <th>current_hrt</th>\n",
       "      <th>menopaus</th>\n",
       "      <th>bmi_group</th>\n",
       "      <th>biophx</th>\n",
       "      <th>breast_cancer_history</th>\n",
       "      <th>count</th>\n",
       "    </tr>\n",
       "  </thead>\n",
       "  <tbody>\n",
       "    <tr>\n",
       "      <th>0</th>\n",
       "      <td>2013</td>\n",
       "      <td>7</td>\n",
       "      <td>1</td>\n",
       "      <td>0</td>\n",
       "      <td>9</td>\n",
       "      <td>3</td>\n",
       "      <td>1</td>\n",
       "      <td>1</td>\n",
       "      <td>2</td>\n",
       "      <td>3</td>\n",
       "      <td>0</td>\n",
       "      <td>0</td>\n",
       "      <td>7</td>\n",
       "    </tr>\n",
       "    <tr>\n",
       "      <th>1</th>\n",
       "      <td>2013</td>\n",
       "      <td>7</td>\n",
       "      <td>1</td>\n",
       "      <td>0</td>\n",
       "      <td>9</td>\n",
       "      <td>3</td>\n",
       "      <td>1</td>\n",
       "      <td>1</td>\n",
       "      <td>2</td>\n",
       "      <td>3</td>\n",
       "      <td>1</td>\n",
       "      <td>0</td>\n",
       "      <td>3</td>\n",
       "    </tr>\n",
       "    <tr>\n",
       "      <th>2</th>\n",
       "      <td>2013</td>\n",
       "      <td>7</td>\n",
       "      <td>1</td>\n",
       "      <td>0</td>\n",
       "      <td>9</td>\n",
       "      <td>3</td>\n",
       "      <td>1</td>\n",
       "      <td>1</td>\n",
       "      <td>2</td>\n",
       "      <td>4</td>\n",
       "      <td>0</td>\n",
       "      <td>0</td>\n",
       "      <td>6</td>\n",
       "    </tr>\n",
       "    <tr>\n",
       "      <th>3</th>\n",
       "      <td>2013</td>\n",
       "      <td>7</td>\n",
       "      <td>1</td>\n",
       "      <td>0</td>\n",
       "      <td>9</td>\n",
       "      <td>3</td>\n",
       "      <td>1</td>\n",
       "      <td>1</td>\n",
       "      <td>2</td>\n",
       "      <td>4</td>\n",
       "      <td>1</td>\n",
       "      <td>0</td>\n",
       "      <td>1</td>\n",
       "    </tr>\n",
       "    <tr>\n",
       "      <th>4</th>\n",
       "      <td>2013</td>\n",
       "      <td>7</td>\n",
       "      <td>1</td>\n",
       "      <td>0</td>\n",
       "      <td>9</td>\n",
       "      <td>3</td>\n",
       "      <td>1</td>\n",
       "      <td>1</td>\n",
       "      <td>2</td>\n",
       "      <td>4</td>\n",
       "      <td>1</td>\n",
       "      <td>1</td>\n",
       "      <td>1</td>\n",
       "    </tr>\n",
       "  </tbody>\n",
       "</table>\n",
       "</div>"
      ],
      "text/plain": [
       "   year  age_group_5_years  race_eth  first_degree_hx  age_menarche  \\\n",
       "0  2013                  7         1                0             9   \n",
       "1  2013                  7         1                0             9   \n",
       "2  2013                  7         1                0             9   \n",
       "3  2013                  7         1                0             9   \n",
       "4  2013                  7         1                0             9   \n",
       "\n",
       "   age_first_birth  BIRADS_breast_density  current_hrt  menopaus  bmi_group  \\\n",
       "0                3                      1            1         2          3   \n",
       "1                3                      1            1         2          3   \n",
       "2                3                      1            1         2          4   \n",
       "3                3                      1            1         2          4   \n",
       "4                3                      1            1         2          4   \n",
       "\n",
       "   biophx  breast_cancer_history  count  \n",
       "0       0                      0      7  \n",
       "1       1                      0      3  \n",
       "2       0                      0      6  \n",
       "3       1                      0      1  \n",
       "4       1                      1      1  "
      ]
     },
     "execution_count": 4,
     "metadata": {},
     "output_type": "execute_result"
    }
   ],
   "source": [
    "df1.head()"
   ]
  },
  {
   "cell_type": "code",
   "execution_count": 5,
   "id": "bd707e00104ee067",
   "metadata": {
    "ExecuteTime": {
     "end_time": "2024-07-19T16:05:48.125620Z",
     "start_time": "2024-07-19T16:05:48.119898Z"
    }
   },
   "outputs": [
    {
     "data": {
      "text/plain": [
       "pandas.core.series.Series"
      ]
     },
     "execution_count": 5,
     "metadata": {},
     "output_type": "execute_result"
    }
   ],
   "source": [
    "type(df1['count'])"
   ]
  },
  {
   "cell_type": "code",
   "execution_count": 6,
   "id": "4eee64bdbee611c8",
   "metadata": {
    "ExecuteTime": {
     "end_time": "2024-07-19T16:12:55.008840Z",
     "start_time": "2024-07-19T16:12:54.583272Z"
    }
   },
   "outputs": [],
   "source": [
    "df1_expanded = df1.loc[df1.index.repeat(df1['count'])].reset_index(drop=True)\n",
    "df2_expanded = df2.loc[df2.index.repeat(df2['count'])].reset_index(drop=True)\n",
    "df3_expanded = df3.loc[df3.index.repeat(df3['count'])].reset_index(drop=True)"
   ]
  },
  {
   "cell_type": "code",
   "execution_count": 7,
   "id": "7c458d75e90e8608",
   "metadata": {
    "ExecuteTime": {
     "end_time": "2024-07-19T16:14:02.052789Z",
     "start_time": "2024-07-19T16:14:02.046972Z"
    }
   },
   "outputs": [
    {
     "data": {
      "text/plain": [
       "6788436"
      ]
     },
     "execution_count": 7,
     "metadata": {},
     "output_type": "execute_result"
    }
   ],
   "source": [
    "len(df1_expanded.index) + len(df2_expanded.index) + len(df3_expanded.index)"
   ]
  },
  {
   "cell_type": "code",
   "execution_count": 8,
   "id": "84a8541a33577740",
   "metadata": {
    "ExecuteTime": {
     "end_time": "2024-07-19T16:23:38.017693Z",
     "start_time": "2024-07-19T16:23:37.710612Z"
    }
   },
   "outputs": [],
   "source": [
    "df1_expanded.drop('count', axis=1, inplace=True)\n",
    "df2_expanded.drop('count', axis=1, inplace=True)\n",
    "df3_expanded.drop('count', axis=1, inplace=True)"
   ]
  },
  {
   "cell_type": "code",
   "execution_count": 9,
   "id": "f129e6d8e9e96ee5",
   "metadata": {
    "ExecuteTime": {
     "end_time": "2024-07-19T16:23:46.822108Z",
     "start_time": "2024-07-19T16:23:40.355711Z"
    }
   },
   "outputs": [],
   "source": [
    "# zip file wouldn't open for me so redid these lines - HS\n",
    "# df1_expanded.to_csv('bcsc_risk_factors_expanded1.csv', header=True, index=False)\n",
    "# df2_expanded.to_csv('bcsc_risk_factors_expanded2.csv', header=True, index=False)\n",
    "# df3_expanded.to_csv('bcsc_risk_factors_expanded3.csv', header=True, index=False)\n",
    "\n",
    "df1_expanded.to_csv('/Users/Haleigh/Documents/MSDS/Adv_ML/Final_Project_CL_HS/datasets/bcsc_risk_factors_expanded1.csv', header=True, index=False)\n",
    "df2_expanded.to_csv('/Users/Haleigh/Documents/MSDS/Adv_ML/Final_Project_CL_HS/datasets/bcsc_risk_factors_expanded2.csv', header=True, index=False)\n",
    "df3_expanded.to_csv('/Users/Haleigh/Documents/MSDS/Adv_ML/Final_Project_CL_HS/datasets/bcsc_risk_factors_expanded3.csv', header=True, index=False)"
   ]
  }
 ],
 "metadata": {
  "kernelspec": {
   "display_name": "Python 3 (ipykernel)",
   "language": "python",
   "name": "python3"
  }
 },
 "nbformat": 4,
 "nbformat_minor": 5
}
