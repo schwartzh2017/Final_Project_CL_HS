{
 "cells": [
  {
   "cell_type": "markdown",
   "metadata": {},
   "source": [
    "# Import libraries, read datasets"
   ]
  },
  {
   "cell_type": "code",
   "execution_count": 45,
   "metadata": {},
   "outputs": [],
   "source": [
    "import numpy as np\n",
    "import pandas as pd\n",
    "import matplotlib as mpl\n",
    "import matplotlib.pyplot as plt\n",
    "import seaborn as sns\n",
    "from sklearn import datasets\n",
    "from sklearn.mixture import GaussianMixture\n",
    "from sklearn import preprocessing\n",
    "from sklearn.metrics import confusion_matrix\n",
    "from sklearn.metrics import ConfusionMatrixDisplay"
   ]
  },
  {
   "cell_type": "code",
   "execution_count": 12,
   "metadata": {},
   "outputs": [],
   "source": [
    "df1 = pd.read_csv('/Users/Haleigh/Documents/MSDS/Adv_ML/Final_Project_CL_HS/datasets/bcsc_risk_factors_expanded1.csv')\n",
    "df2 = pd.read_csv('/Users/Haleigh/Documents/MSDS/Adv_ML/Final_Project_CL_HS/datasets/bcsc_risk_factors_expanded2.csv')\n",
    "df3 = pd.read_csv('/Users/Haleigh/Documents/MSDS/Adv_ML/Final_Project_CL_HS/datasets/bcsc_risk_factors_expanded3.csv')"
   ]
  },
  {
   "cell_type": "code",
   "execution_count": 13,
   "metadata": {},
   "outputs": [],
   "source": [
    "#slight cleaning\n",
    "df = pd.concat([df1, df2, df3])\n",
    "df = df[df.ne(9).all(1)] #drop unknowns (9s)"
   ]
  },
  {
   "cell_type": "markdown",
   "metadata": {},
   "source": [
    "# GMM"
   ]
  },
  {
   "cell_type": "code",
   "execution_count": 18,
   "metadata": {},
   "outputs": [
    {
     "data": {
      "text/plain": [
       "Index(['year', 'age_group_5_years', 'race_eth', 'first_degree_hx',\n",
       "       'age_menarche', 'age_first_birth', 'BIRADS_breast_density',\n",
       "       'current_hrt', 'menopaus', 'bmi_group', 'biophx',\n",
       "       'breast_cancer_history'],\n",
       "      dtype='object')"
      ]
     },
     "execution_count": 18,
     "metadata": {},
     "output_type": "execute_result"
    }
   ],
   "source": [
    "df.columns"
   ]
  },
  {
   "cell_type": "code",
   "execution_count": 38,
   "metadata": {},
   "outputs": [
    {
     "data": {
      "text/plain": [
       "<Axes: xlabel='breast_cancer_history'>"
      ]
     },
     "execution_count": 38,
     "metadata": {},
     "output_type": "execute_result"
    },
    {
     "data": {
      "image/png": "[encoded data removed]",
      "text/plain": [
       "<Figure size 640x480 with 1 Axes>"
      ]
     },
     "metadata": {},
     "output_type": "display_data"
    }
   ],
   "source": [
    "#since GMM doesn't have class_weight attribute, have to balance dataset first\n",
    "\n",
    "# Identify the minority class\n",
    "minority_class = df['breast_cancer_history'].value_counts().idxmin()\n",
    "majority_class = df['breast_cancer_history'].value_counts().idxmax()\n",
    "\n",
    "# Calculate how many samples to duplicate\n",
    "samples_to_add = df['breast_cancer_history'].value_counts()[majority_class] - df['breast_cancer_history'].value_counts()[minority_class]\n",
    "\n",
    "# Duplicate minority class samples\n",
    "minority_samples = df[df['breast_cancer_history'] == minority_class].sample(n=samples_to_add, replace=True)\n",
    "\n",
    "# Combine with the original dataset\n",
    "balanced_df = pd.concat([df, minority_samples])\n",
    "\n",
    "# Shuffle the dataset to mix the duplicated samples\n",
    "balanced_df = balanced_df.sample(frac=1).reset_index(drop=True)\n",
    "\n",
    "#verify\n",
    "balanced_df.breast_cancer_history.value_counts().plot(kind='bar')"
   ]
  },
  {
   "cell_type": "code",
   "execution_count": 39,
   "metadata": {},
   "outputs": [
    {
     "data": {
      "text/plain": [
       "Index(['year', 'age_group_5_years', 'race_eth', 'first_degree_hx',\n",
       "       'age_menarche', 'age_first_birth', 'BIRADS_breast_density',\n",
       "       'current_hrt', 'menopaus', 'bmi_group', 'biophx',\n",
       "       'breast_cancer_history'],\n",
       "      dtype='object')"
      ]
     },
     "execution_count": 39,
     "metadata": {},
     "output_type": "execute_result"
    }
   ],
   "source": [
    "balanced_df.columns"
   ]
  },
  {
   "cell_type": "code",
   "execution_count": 40,
   "metadata": {},
   "outputs": [],
   "source": [
    "# split data into features (X) and labels (y)\n",
    "#may need to drop biophx\n",
    "X = balanced_df.iloc[:,0:11]\n",
    "y = balanced_df.iloc[:,-1]"
   ]
  },
  {
   "cell_type": "code",
   "execution_count": 41,
   "metadata": {},
   "outputs": [
    {
     "data": {
      "text/html": [
       "<div>\n",
       "<style scoped>\n",
       "    .dataframe tbody tr th:only-of-type {\n",
       "        vertical-align: middle;\n",
       "    }\n",
       "\n",
       "    .dataframe tbody tr th {\n",
       "        vertical-align: top;\n",
       "    }\n",
       "\n",
       "    .dataframe thead th {\n",
       "        text-align: right;\n",
       "    }\n",
       "</style>\n",
       "<table border=\"1\" class=\"dataframe\">\n",
       "  <thead>\n",
       "    <tr style=\"text-align: right;\">\n",
       "      <th></th>\n",
       "      <th>year</th>\n",
       "      <th>age_group_5_years</th>\n",
       "      <th>race_eth</th>\n",
       "      <th>first_degree_hx</th>\n",
       "      <th>age_menarche</th>\n",
       "      <th>age_first_birth</th>\n",
       "      <th>BIRADS_breast_density</th>\n",
       "      <th>current_hrt</th>\n",
       "      <th>menopaus</th>\n",
       "      <th>bmi_group</th>\n",
       "      <th>biophx</th>\n",
       "    </tr>\n",
       "  </thead>\n",
       "  <tbody>\n",
       "    <tr>\n",
       "      <th>206872</th>\n",
       "      <td>0.237076</td>\n",
       "      <td>0.880887</td>\n",
       "      <td>1.107102</td>\n",
       "      <td>-0.494172</td>\n",
       "      <td>-1.354305</td>\n",
       "      <td>1.429940</td>\n",
       "      <td>-0.668011</td>\n",
       "      <td>-0.132637</td>\n",
       "      <td>0.385143</td>\n",
       "      <td>-0.055800</td>\n",
       "      <td>1.092561</td>\n",
       "    </tr>\n",
       "    <tr>\n",
       "      <th>1321741</th>\n",
       "      <td>-0.318771</td>\n",
       "      <td>0.112481</td>\n",
       "      <td>-0.541542</td>\n",
       "      <td>-0.494172</td>\n",
       "      <td>0.122700</td>\n",
       "      <td>-0.796219</td>\n",
       "      <td>-0.668011</td>\n",
       "      <td>-0.132637</td>\n",
       "      <td>0.385143</td>\n",
       "      <td>0.913666</td>\n",
       "      <td>1.092561</td>\n",
       "    </tr>\n",
       "    <tr>\n",
       "      <th>1374540</th>\n",
       "      <td>-1.430464</td>\n",
       "      <td>-0.655924</td>\n",
       "      <td>-0.541542</td>\n",
       "      <td>2.023587</td>\n",
       "      <td>0.122700</td>\n",
       "      <td>1.429940</td>\n",
       "      <td>-0.668011</td>\n",
       "      <td>-0.132637</td>\n",
       "      <td>-1.449676</td>\n",
       "      <td>-1.025267</td>\n",
       "      <td>-0.915280</td>\n",
       "    </tr>\n",
       "    <tr>\n",
       "      <th>1699461</th>\n",
       "      <td>0.237076</td>\n",
       "      <td>-0.271722</td>\n",
       "      <td>-0.541542</td>\n",
       "      <td>-0.494172</td>\n",
       "      <td>1.599706</td>\n",
       "      <td>-1.538271</td>\n",
       "      <td>-0.668011</td>\n",
       "      <td>-0.132637</td>\n",
       "      <td>0.385143</td>\n",
       "      <td>-0.055800</td>\n",
       "      <td>-0.915280</td>\n",
       "    </tr>\n",
       "    <tr>\n",
       "      <th>1155111</th>\n",
       "      <td>-1.152541</td>\n",
       "      <td>-1.040127</td>\n",
       "      <td>-0.541542</td>\n",
       "      <td>-0.494172</td>\n",
       "      <td>1.599706</td>\n",
       "      <td>0.687887</td>\n",
       "      <td>1.993442</td>\n",
       "      <td>-0.132637</td>\n",
       "      <td>0.385143</td>\n",
       "      <td>-1.025267</td>\n",
       "      <td>1.092561</td>\n",
       "    </tr>\n",
       "  </tbody>\n",
       "</table>\n",
       "</div>"
      ],
      "text/plain": [
       "             year  age_group_5_years  race_eth  first_degree_hx  age_menarche  \\\n",
       "206872   0.237076           0.880887  1.107102        -0.494172     -1.354305   \n",
       "1321741 -0.318771           0.112481 -0.541542        -0.494172      0.122700   \n",
       "1374540 -1.430464          -0.655924 -0.541542         2.023587      0.122700   \n",
       "1699461  0.237076          -0.271722 -0.541542        -0.494172      1.599706   \n",
       "1155111 -1.152541          -1.040127 -0.541542        -0.494172      1.599706   \n",
       "\n",
       "         age_first_birth  BIRADS_breast_density  current_hrt  menopaus  \\\n",
       "206872          1.429940              -0.668011    -0.132637  0.385143   \n",
       "1321741        -0.796219              -0.668011    -0.132637  0.385143   \n",
       "1374540         1.429940              -0.668011    -0.132637 -1.449676   \n",
       "1699461        -1.538271              -0.668011    -0.132637  0.385143   \n",
       "1155111         0.687887               1.993442    -0.132637  0.385143   \n",
       "\n",
       "         bmi_group    biophx  \n",
       "206872   -0.055800  1.092561  \n",
       "1321741   0.913666  1.092561  \n",
       "1374540  -1.025267 -0.915280  \n",
       "1699461  -0.055800 -0.915280  \n",
       "1155111  -1.025267  1.092561  "
      ]
     },
     "execution_count": 41,
     "metadata": {},
     "output_type": "execute_result"
    }
   ],
   "source": [
    "#standard scale since one col is years, some cols go from 0-13, some from 0-2, etc\n",
    "scaler = preprocessing.StandardScaler()\n",
    "\n",
    "scaler.fit(X)\n",
    "X_scaled_array = scaler.transform(X)\n",
    "X_scaled = pd.DataFrame(X_scaled_array, columns = X.columns)\n",
    "\n",
    "X_scaled.sample(5)"
   ]
  },
  {
   "cell_type": "code",
   "execution_count": 43,
   "metadata": {},
   "outputs": [
    {
     "data": {
      "text/plain": [
       "array([0, 0, 0, ..., 1, 0, 0])"
      ]
     },
     "execution_count": 43,
     "metadata": {},
     "output_type": "execute_result"
    }
   ],
   "source": [
    "#gmm\n",
    "nclusters=2 #since either 0 or 1\n",
    "gmm = GaussianMixture(n_components=nclusters)\n",
    "gmm.fit(X_scaled)\n",
    "\n",
    "# predict the cluster for each data point\n",
    "y_cluster_gmm = gmm.predict(X_scaled)\n",
    "y_cluster_gmm\n"
   ]
  },
  {
   "cell_type": "code",
   "execution_count": 50,
   "metadata": {},
   "outputs": [
    {
     "data": {
      "text/plain": [
       "<sklearn.metrics._plot.confusion_matrix.ConfusionMatrixDisplay at 0x284991d10>"
      ]
     },
     "execution_count": 50,
     "metadata": {},
     "output_type": "execute_result"
    },
    {
     "data": {
      "image/png": "[encoded data removed]",
      "text/plain": [
       "<Figure size 640x480 with 2 Axes>"
      ]
     },
     "metadata": {},
     "output_type": "display_data"
    }
   ],
   "source": [
    "#confusion matrix\n",
    "\n",
    "#gmm does not have attribute classes_ so have to add it in for matrix labels\n",
    "cluster_to_class_map = {0: 0, 1: 1}\n",
    "y_pred_labels = np.vectorize(cluster_to_class_map.get)(y_cluster_gmm)\n",
    "\n",
    "#plot\n",
    "ConfusionMatrixDisplay(confusion_matrix=confusion_matrix(y, y_pred_labels), display_labels=np.unique(y)).plot()\n"
   ]
  },
  {
   "cell_type": "code",
   "execution_count": 49,
   "metadata": {},
   "outputs": [
    {
     "data": {
      "text/plain": [
       "array(['No_ca', 'No_ca', 'No_ca', ..., 'Yes_ca', 'No_ca', 'No_ca'],\n",
       "      dtype='<U6')"
      ]
     },
     "execution_count": 49,
     "metadata": {},
     "output_type": "execute_result"
    }
   ],
   "source": [
    "y_pred_labels"
   ]
  }
 ],
 "metadata": {
  "kernelspec": {
   "display_name": "Python 3 (ipykernel)",
   "language": "python",
   "name": "python3"
  },
  "language_info": {
   "codemirror_mode": {
    "name": "ipython",
    "version": 3
   },
   "file_extension": ".py",
   "mimetype": "text/x-python",
   "name": "python",
   "nbconvert_exporter": "python",
   "pygments_lexer": "ipython3",
   "version": "3.11.5"
  }
 },
 "nbformat": 4,
 "nbformat_minor": 2
}
